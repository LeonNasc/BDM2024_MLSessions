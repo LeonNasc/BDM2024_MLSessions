{
 "cells": [
  {
   "cell_type": "markdown",
   "metadata": {
    "id": "q951yLwZN8I1"
   },
   "source": [
    "# Practice Session : Machine Learning over Spark"
   ]
  },
  {
   "cell_type": "markdown",
   "metadata": {
    "id": "1z39z0K_ynZ8"
   },
   "source": [
    "In this notebook, we practice what you learned during the SparkML lecture."
   ]
  },
  {
   "attachments": {},
   "cell_type": "markdown",
   "metadata": {
    "id": "1z39z0K_ynZ8"
   },
   "source": [
    "<img src=\"https://content.altexsoft.com/media/2020/05/word-image-43.png\" width=\"600px\">"
   ]
  },
  {
   "cell_type": "markdown",
   "metadata": {
    "id": "1Q833PnrN8I3"
   },
   "source": [
    "## Introduction"
   ]
  },
  {
   "cell_type": "markdown",
   "metadata": {
    "id": "c6neT5aCN8I2"
   },
   "source": [
    "### Lab Goals\n"
   ]
  },
  {
   "cell_type": "markdown",
   "metadata": {
    "id": "kP3JwjRDN8I3"
   },
   "source": [
    "* Get familiar with SparkML (MLlib is Apache Spark's scalable machine learning library) and understand the main concepts of Pipelines\n",
    "* Takes you through building a simple logistic regression model using Spark's ML pipeline interface and tunning model hyperparameters.\n",
    "* Gain knowledge how to apply unsupervised learning(Kmeans, PCA) with SparkML."
   ]
  },
  {
   "cell_type": "markdown",
   "metadata": {
    "id": "0XMDyBxPN8I3"
   },
   "source": [
    "### Machine Learning Library (MLlib)\n",
    "MLlib standardizes APIs for machine learning algorithms to make it easier to combine multiple algorithms into a single pipeline, or workflow. This section covers the key concepts introduced by the Pipelines API, where the pipeline concept is mostly inspired by the scikit-learn project."
   ]
  },
  {
   "cell_type": "markdown",
   "metadata": {
    "id": "7X3iiSaUN8I3"
   },
   "source": [
    "\n",
    "\n",
    "   * **DataFrame**: This ML API uses DataFrame from Spark SQL as an ML dataset, which can hold a variety of data types. E.g., a DataFrame could have different columns storing text, feature vectors, true labels, and predictions.\n",
    "\n",
    "   * **Transformer**: A Transformer is an algorithm which can transform one DataFrame into another DataFrame. A feature transformer might take a DataFrame, read a column (e.g., text), map it into a new column (e.g., feature vectors), and output a new DataFrame with the mapped column appended. Also, a learning model might take a DataFrame, read the column containing feature vectors, predict the label for each feature vector, and output a new DataFrame with predicted labels appended as a column.\n",
    "   * **Estimator**: An Estimator is an algorithm which can be fit on a DataFrame to produce a Transformer. Technically, an Estimator implements a method ```fit()```, which accepts a DataFrame and produces a Model, which is a Transformer. For example, a learning algorithm such as LogisticRegression is an Estimator, and calling ```fit()``` trains a *LogisticRegressionModel*, which is a Model and hence a *Transformer*.\n",
    "\n",
    "   * **Pipeline**: A Pipeline chains multiple Transformers and Estimators together to specify an ML workflow.\n",
    "\n",
    "   * **Parameter**: All Transformers and Estimators now share a common API for specifying parameters.\n",
    "\n"
   ]
  },
  {
   "cell_type": "markdown",
   "metadata": {
    "id": "UAzRF0TYN8I4"
   },
   "source": [
    "## Part 1\n",
    "Building a logistic regression model using Spark's ML pipeline interface."
   ]
  },
  {
   "cell_type": "markdown",
   "metadata": {
    "id": "fnum7bGIN8I4"
   },
   "source": [
    "### Data Ingestion:\n",
    "We are going to use Adult dataset https://archive.ics.uci.edu/ml/datasets/Adult. This data derives from census data, and consists of information about individuals and their annual income. We will use this information to predict if an individual earns <=50K or >50k a year.\n"
   ]
  },
  {
   "cell_type": "markdown",
   "metadata": {
    "id": "Es4v3SqnN8I4"
   },
   "source": [
    "* **Configure your SparkContext. You can set the master, by default this will use a local master unless you add setMaster or change your enviorment variables.**\n",
    "\n",
    "* **Use get or create here so that if the cell is evaluated multiple times we don't get multiple SparkContexts.**\n",
    "    "
   ]
  },
  {
   "cell_type": "code",
   "execution_count": 1,
   "metadata": {
    "id": "pGwFQPshN8I4"
   },
   "outputs": [],
   "source": [
    "# SparkContext represents the connection to a Spark cluster\n",
    "from pyspark.context import SparkContext\n",
    "# Configuration for a Spark application\n",
    "from pyspark.conf import SparkConf\n",
    "# The entry point to programming Spark with the Dataset and DataFrame API\n",
    "from pyspark.sql.session import SparkSession\n",
    "from pyspark.sql.functions import col\n",
    "\n",
    "conf = SparkConf().setAppName(\"practice_session_SparkML\")\n",
    "sc = SparkContext.getOrCreate()\n",
    "spark = SparkSession.builder.getOrCreate()\n",
    "\n",
    "spark.conf.set(\"spark.sql.repl.eagerEval.enabled\",True) # OK for exploration, not great for performance\n",
    "spark.conf.set(\"spark.sql.repl.eagerEval.truncate\", 500)"
   ]
  },
  {
   "cell_type": "markdown",
   "metadata": {
    "id": "iWtLbOFPN8I5"
   },
   "source": [
    "### Exploratory Data Analysis (EDA)\n",
    "Let's try some simple operations with PySpark and get familiar with the data!"
   ]
  },
  {
   "cell_type": "markdown",
   "metadata": {
    "id": "yGBgWuTDN8I5"
   },
   "source": [
    "**The data came as a zip, so let`s manipulate it to be able to use in the notebook**"
   ]
  },
  {
   "cell_type": "code",
   "execution_count": 2,
   "metadata": {},
   "outputs": [
    {
     "name": "stdout",
     "output_type": "stream",
     "text": [
      "Archive:  adult.zip\n"
     ]
    }
   ],
   "source": [
    "!unzip -u adult.zip "
   ]
  },
  {
   "cell_type": "markdown",
   "metadata": {
    "id": "yGBgWuTDN8I5"
   },
   "source": [
    "**Now start by loading some data which is in csv format**"
   ]
  },
  {
   "cell_type": "code",
   "execution_count": 3,
   "metadata": {
    "id": "Lel2oT_aN8I5"
   },
   "outputs": [],
   "source": [
    "df = spark.read.format(\"csv\").option(\"header\", \"true\").load(\"./adult.data\")"
   ]
  },
  {
   "cell_type": "markdown",
   "metadata": {
    "id": "oOplwxeLN8I5"
   },
   "source": [
    "**Have a look on the dataframe and write down the attributes and their types**"
   ]
  },
  {
   "cell_type": "code",
   "execution_count": 4,
   "metadata": {
    "colab": {
     "base_uri": "https://localhost:8080/"
    },
    "id": "64VOsO3oN8I5",
    "outputId": "01e1a640-97ed-4c3d-dbc8-fd868be25874"
   },
   "outputs": [
    {
     "name": "stdout",
     "output_type": "stream",
     "text": [
      "root\n",
      " |-- age: string (nullable = true)\n",
      " |-- workclass: string (nullable = true)\n",
      " |-- fnlwgt: string (nullable = true)\n",
      " |-- education: string (nullable = true)\n",
      " |-- education_num: string (nullable = true)\n",
      " |-- marital_status: string (nullable = true)\n",
      " |-- occupation: string (nullable = true)\n",
      " |-- relationship: string (nullable = true)\n",
      " |-- race: string (nullable = true)\n",
      " |-- sex: string (nullable = true)\n",
      " |-- capital_gain: string (nullable = true)\n",
      " |-- capital_loss: string (nullable = true)\n",
      " |-- hours_per_week: string (nullable = true)\n",
      " |-- native_country: string (nullable = true)\n",
      " |-- category: string (nullable = true)\n",
      "\n"
     ]
    }
   ],
   "source": [
    "df.printSchema()"
   ]
  },
  {
   "cell_type": "markdown",
   "metadata": {
    "id": "r2L0nqB7N8I6"
   },
   "source": [
    "**Display a subset of the dataframe**"
   ]
  },
  {
   "cell_type": "code",
   "execution_count": 5,
   "metadata": {
    "colab": {
     "base_uri": "https://localhost:8080/"
    },
    "id": "jv6nvBrQN8I6",
    "outputId": "115ff078-dd30-4db5-e75e-2f049e019e89"
   },
   "outputs": [
    {
     "name": "stdout",
     "output_type": "stream",
     "text": [
      "+---+-----------------+-------+----------+-------------+-------------------+------------------+--------------+------+-------+------------+------------+--------------+--------------+--------+\n",
      "|age|        workclass| fnlwgt| education|education_num|     marital_status|        occupation|  relationship|  race|    sex|capital_gain|capital_loss|hours_per_week|native_country|category|\n",
      "+---+-----------------+-------+----------+-------------+-------------------+------------------+--------------+------+-------+------------+------------+--------------+--------------+--------+\n",
      "| 39|        State-gov|  77516| Bachelors|           13|      Never-married|      Adm-clerical| Not-in-family| White|   Male|        2174|           0|            40| United-States|   <=50K|\n",
      "| 50| Self_emp-not-inc|  83311| Bachelors|           13| Married-civ-spouse|   Exec-managerial|       Husband| White|   Male|           0|           0|            13| United-States|   <=50K|\n",
      "| 38|          Private| 215646|   HS-grad|            9|           Divorced| Handlers-cleaners| Not-in-family| White|   Male|           0|           0|            40| United-States|   <=50K|\n",
      "| 53|          Private| 234721|      11th|            7| Married-civ-spouse| Handlers-cleaners|       Husband| Black|   Male|           0|           0|            40| United-States|   <=50K|\n",
      "| 28|          Private| 338409| Bachelors|           13| Married-civ-spouse|    Prof-specialty|          Wife| Black| Female|           0|           0|            40|          Cuba|   <=50K|\n",
      "+---+-----------------+-------+----------+-------------+-------------------+------------------+--------------+------+-------+------------+------------+--------------+--------------+--------+\n",
      "only showing top 5 rows\n",
      "\n"
     ]
    }
   ],
   "source": [
    "df.show(5)"
   ]
  },
  {
   "cell_type": "code",
   "execution_count": 6,
   "metadata": {
    "colab": {
     "base_uri": "https://localhost:8080/"
    },
    "id": "xyDX9WonN8I6",
    "outputId": "450142da-5f0a-41cd-ef0d-b49983c00675"
   },
   "outputs": [
    {
     "name": "stdout",
     "output_type": "stream",
     "text": [
      "-RECORD 0------------------------\n",
      " age            | 39             \n",
      " workclass      |  State-gov     \n",
      " fnlwgt         |  77516         \n",
      " education      |  Bachelors     \n",
      " education_num  |  13            \n",
      " marital_status |  Never-married \n",
      " occupation     |  Adm-clerical  \n",
      " relationship   |  Not-in-family \n",
      " race           |  White         \n",
      " sex            |  Male          \n",
      " capital_gain   |  2174          \n",
      " capital_loss   |  0             \n",
      " hours_per_week |  40            \n",
      " native_country |  United-States \n",
      " category       |  <=50K         \n",
      "only showing top 1 row\n",
      "\n"
     ]
    }
   ],
   "source": [
    "df.show(n=1, truncate=False, vertical=True)"
   ]
  },
  {
   "cell_type": "code",
   "execution_count": 7,
   "metadata": {
    "colab": {
     "base_uri": "https://localhost:8080/"
    },
    "id": "VSahyjwmGsYl",
    "outputId": "6fb249db-b7b7-4e9a-a859-751d9d3334f3"
   },
   "outputs": [
    {
     "data": {
      "text/plain": [
       "pyspark.sql.dataframe.DataFrame"
      ]
     },
     "execution_count": 7,
     "metadata": {},
     "output_type": "execute_result"
    }
   ],
   "source": [
    "type(df)"
   ]
  },
  {
   "cell_type": "code",
   "execution_count": 8,
   "metadata": {
    "colab": {
     "base_uri": "https://localhost:8080/",
     "height": 206
    },
    "id": "oUk-brcSN8I6",
    "outputId": "c3e8472d-12ef-49d9-ea46-7d8aa2b9e610"
   },
   "outputs": [
    {
     "data": {
      "text/html": [
       "<div>\n",
       "<style scoped>\n",
       "    .dataframe tbody tr th:only-of-type {\n",
       "        vertical-align: middle;\n",
       "    }\n",
       "\n",
       "    .dataframe tbody tr th {\n",
       "        vertical-align: top;\n",
       "    }\n",
       "\n",
       "    .dataframe thead th {\n",
       "        text-align: right;\n",
       "    }\n",
       "</style>\n",
       "<table border=\"1\" class=\"dataframe\">\n",
       "  <thead>\n",
       "    <tr style=\"text-align: right;\">\n",
       "      <th></th>\n",
       "      <th>age</th>\n",
       "      <th>workclass</th>\n",
       "      <th>fnlwgt</th>\n",
       "      <th>education</th>\n",
       "      <th>education_num</th>\n",
       "      <th>marital_status</th>\n",
       "      <th>occupation</th>\n",
       "      <th>relationship</th>\n",
       "      <th>race</th>\n",
       "      <th>sex</th>\n",
       "      <th>capital_gain</th>\n",
       "      <th>capital_loss</th>\n",
       "      <th>hours_per_week</th>\n",
       "      <th>native_country</th>\n",
       "      <th>category</th>\n",
       "    </tr>\n",
       "  </thead>\n",
       "  <tbody>\n",
       "    <tr>\n",
       "      <th>0</th>\n",
       "      <td>39</td>\n",
       "      <td>State-gov</td>\n",
       "      <td>77516</td>\n",
       "      <td>Bachelors</td>\n",
       "      <td>13</td>\n",
       "      <td>Never-married</td>\n",
       "      <td>Adm-clerical</td>\n",
       "      <td>Not-in-family</td>\n",
       "      <td>White</td>\n",
       "      <td>Male</td>\n",
       "      <td>2174</td>\n",
       "      <td>0</td>\n",
       "      <td>40</td>\n",
       "      <td>United-States</td>\n",
       "      <td>&lt;=50K</td>\n",
       "    </tr>\n",
       "    <tr>\n",
       "      <th>1</th>\n",
       "      <td>50</td>\n",
       "      <td>Self_emp-not-inc</td>\n",
       "      <td>83311</td>\n",
       "      <td>Bachelors</td>\n",
       "      <td>13</td>\n",
       "      <td>Married-civ-spouse</td>\n",
       "      <td>Exec-managerial</td>\n",
       "      <td>Husband</td>\n",
       "      <td>White</td>\n",
       "      <td>Male</td>\n",
       "      <td>0</td>\n",
       "      <td>0</td>\n",
       "      <td>13</td>\n",
       "      <td>United-States</td>\n",
       "      <td>&lt;=50K</td>\n",
       "    </tr>\n",
       "    <tr>\n",
       "      <th>2</th>\n",
       "      <td>38</td>\n",
       "      <td>Private</td>\n",
       "      <td>215646</td>\n",
       "      <td>HS-grad</td>\n",
       "      <td>9</td>\n",
       "      <td>Divorced</td>\n",
       "      <td>Handlers-cleaners</td>\n",
       "      <td>Not-in-family</td>\n",
       "      <td>White</td>\n",
       "      <td>Male</td>\n",
       "      <td>0</td>\n",
       "      <td>0</td>\n",
       "      <td>40</td>\n",
       "      <td>United-States</td>\n",
       "      <td>&lt;=50K</td>\n",
       "    </tr>\n",
       "    <tr>\n",
       "      <th>3</th>\n",
       "      <td>53</td>\n",
       "      <td>Private</td>\n",
       "      <td>234721</td>\n",
       "      <td>11th</td>\n",
       "      <td>7</td>\n",
       "      <td>Married-civ-spouse</td>\n",
       "      <td>Handlers-cleaners</td>\n",
       "      <td>Husband</td>\n",
       "      <td>Black</td>\n",
       "      <td>Male</td>\n",
       "      <td>0</td>\n",
       "      <td>0</td>\n",
       "      <td>40</td>\n",
       "      <td>United-States</td>\n",
       "      <td>&lt;=50K</td>\n",
       "    </tr>\n",
       "    <tr>\n",
       "      <th>4</th>\n",
       "      <td>28</td>\n",
       "      <td>Private</td>\n",
       "      <td>338409</td>\n",
       "      <td>Bachelors</td>\n",
       "      <td>13</td>\n",
       "      <td>Married-civ-spouse</td>\n",
       "      <td>Prof-specialty</td>\n",
       "      <td>Wife</td>\n",
       "      <td>Black</td>\n",
       "      <td>Female</td>\n",
       "      <td>0</td>\n",
       "      <td>0</td>\n",
       "      <td>40</td>\n",
       "      <td>Cuba</td>\n",
       "      <td>&lt;=50K</td>\n",
       "    </tr>\n",
       "    <tr>\n",
       "      <th>5</th>\n",
       "      <td>37</td>\n",
       "      <td>Private</td>\n",
       "      <td>284582</td>\n",
       "      <td>Masters</td>\n",
       "      <td>14</td>\n",
       "      <td>Married-civ-spouse</td>\n",
       "      <td>Exec-managerial</td>\n",
       "      <td>Wife</td>\n",
       "      <td>White</td>\n",
       "      <td>Female</td>\n",
       "      <td>0</td>\n",
       "      <td>0</td>\n",
       "      <td>40</td>\n",
       "      <td>United-States</td>\n",
       "      <td>&lt;=50K</td>\n",
       "    </tr>\n",
       "    <tr>\n",
       "      <th>6</th>\n",
       "      <td>49</td>\n",
       "      <td>Private</td>\n",
       "      <td>160187</td>\n",
       "      <td>9th</td>\n",
       "      <td>5</td>\n",
       "      <td>Married-spouse-absent</td>\n",
       "      <td>Other-service</td>\n",
       "      <td>Not-in-family</td>\n",
       "      <td>Black</td>\n",
       "      <td>Female</td>\n",
       "      <td>0</td>\n",
       "      <td>0</td>\n",
       "      <td>16</td>\n",
       "      <td>Jamaica</td>\n",
       "      <td>&lt;=50K</td>\n",
       "    </tr>\n",
       "    <tr>\n",
       "      <th>7</th>\n",
       "      <td>52</td>\n",
       "      <td>Self-emp-not-inc</td>\n",
       "      <td>209642</td>\n",
       "      <td>HS-grad</td>\n",
       "      <td>9</td>\n",
       "      <td>Married-civ-spouse</td>\n",
       "      <td>Exec-managerial</td>\n",
       "      <td>Husband</td>\n",
       "      <td>White</td>\n",
       "      <td>Male</td>\n",
       "      <td>0</td>\n",
       "      <td>0</td>\n",
       "      <td>45</td>\n",
       "      <td>United-States</td>\n",
       "      <td>&gt;50K</td>\n",
       "    </tr>\n",
       "    <tr>\n",
       "      <th>8</th>\n",
       "      <td>31</td>\n",
       "      <td>Private</td>\n",
       "      <td>45781</td>\n",
       "      <td>Masters</td>\n",
       "      <td>14</td>\n",
       "      <td>Never-married</td>\n",
       "      <td>Prof-specialty</td>\n",
       "      <td>Not-in-family</td>\n",
       "      <td>White</td>\n",
       "      <td>Female</td>\n",
       "      <td>14084</td>\n",
       "      <td>0</td>\n",
       "      <td>50</td>\n",
       "      <td>United-States</td>\n",
       "      <td>&gt;50K</td>\n",
       "    </tr>\n",
       "    <tr>\n",
       "      <th>9</th>\n",
       "      <td>42</td>\n",
       "      <td>Private</td>\n",
       "      <td>159449</td>\n",
       "      <td>Bachelors</td>\n",
       "      <td>13</td>\n",
       "      <td>Married-civ-spouse</td>\n",
       "      <td>Exec-managerial</td>\n",
       "      <td>Husband</td>\n",
       "      <td>White</td>\n",
       "      <td>Male</td>\n",
       "      <td>5178</td>\n",
       "      <td>0</td>\n",
       "      <td>40</td>\n",
       "      <td>United-States</td>\n",
       "      <td>&gt;50K</td>\n",
       "    </tr>\n",
       "  </tbody>\n",
       "</table>\n",
       "</div>"
      ],
      "text/plain": [
       "  age          workclass   fnlwgt   education education_num  \\\n",
       "0  39          State-gov    77516   Bachelors            13   \n",
       "1  50   Self_emp-not-inc    83311   Bachelors            13   \n",
       "2  38            Private   215646     HS-grad             9   \n",
       "3  53            Private   234721        11th             7   \n",
       "4  28            Private   338409   Bachelors            13   \n",
       "5  37            Private   284582     Masters            14   \n",
       "6  49            Private   160187         9th             5   \n",
       "7  52   Self-emp-not-inc   209642     HS-grad             9   \n",
       "8  31            Private    45781     Masters            14   \n",
       "9  42            Private   159449   Bachelors            13   \n",
       "\n",
       "           marital_status          occupation    relationship    race  \\\n",
       "0           Never-married        Adm-clerical   Not-in-family   White   \n",
       "1      Married-civ-spouse     Exec-managerial         Husband   White   \n",
       "2                Divorced   Handlers-cleaners   Not-in-family   White   \n",
       "3      Married-civ-spouse   Handlers-cleaners         Husband   Black   \n",
       "4      Married-civ-spouse      Prof-specialty            Wife   Black   \n",
       "5      Married-civ-spouse     Exec-managerial            Wife   White   \n",
       "6   Married-spouse-absent       Other-service   Not-in-family   Black   \n",
       "7      Married-civ-spouse     Exec-managerial         Husband   White   \n",
       "8           Never-married      Prof-specialty   Not-in-family   White   \n",
       "9      Married-civ-spouse     Exec-managerial         Husband   White   \n",
       "\n",
       "       sex capital_gain capital_loss hours_per_week  native_country category  \n",
       "0     Male         2174            0             40   United-States    <=50K  \n",
       "1     Male            0            0             13   United-States    <=50K  \n",
       "2     Male            0            0             40   United-States    <=50K  \n",
       "3     Male            0            0             40   United-States    <=50K  \n",
       "4   Female            0            0             40            Cuba    <=50K  \n",
       "5   Female            0            0             40   United-States    <=50K  \n",
       "6   Female            0            0             16         Jamaica    <=50K  \n",
       "7     Male            0            0             45   United-States     >50K  \n",
       "8   Female        14084            0             50   United-States     >50K  \n",
       "9     Male         5178            0             40   United-States     >50K  "
      ]
     },
     "execution_count": 8,
     "metadata": {},
     "output_type": "execute_result"
    }
   ],
   "source": [
    "#Spark dataframes can be interoperable with pandas too\n",
    "df.limit(10).toPandas()"
   ]
  },
  {
   "cell_type": "markdown",
   "metadata": {
    "id": "dPITvDGPN8I7"
   },
   "source": [
    "**So far Spark has simply loaded all of the values as strings since we haven't specified another schema. We need to specify it or let spark infer the schema**"
   ]
  },
  {
   "cell_type": "code",
   "execution_count": 9,
   "metadata": {},
   "outputs": [],
   "source": [
    "adult_schema = \"age integer, workclass string, fnlwgt double, education string, education_num double, marital_status string, occupation string, relationship string, race string, sex string, capital_gain double, capital_loss double, hours_per_week float, native_country string, category string\""
   ]
  },
  {
   "cell_type": "code",
   "execution_count": 10,
   "metadata": {
    "id": "U8QX-v6EN8I7"
   },
   "outputs": [],
   "source": [
    "#df = spark.read.format(\"csv\").option(\"header\", \"true\").option(\"inferSchema\", \"true\").load(\"./adult.data\") # Let spark infer the schema ( schema also handle this extra space)\n",
    "df = df.select(col(\"age\").cast(\"integer\"), \n",
    "               col(\"fnlwgt\").cast(\"double\"), \n",
    "               col(\"education_num\").cast(\"double\"), \n",
    "               col(\"capital_gain\").cast(\"double\"),\n",
    "               col(\"capital_loss\").cast(\"double\"),\n",
    "               col(\"hours_per_week\").cast(\"double\"),\n",
    "               col(\"workclass\"),\n",
    "               col(\"education\"),\n",
    "               col(\"marital_status\"),\n",
    "               col(\"occupation\"),\n",
    "               col(\"relationship\"),\n",
    "               col(\"race\"),\n",
    "               col(\"sex\"),\n",
    "               col(\"native_country\"),\n",
    "               col(\"category\"))\n",
    "#df = spark.read.format(\"csv\").option(\"header\", \"true\").schema(adult_schema).load(\"./adult.data\") #Provide a schema (faster for large data)"
   ]
  },
  {
   "cell_type": "markdown",
   "metadata": {
    "id": "V2nh523JN8I7"
   },
   "source": [
    "**Have a look on the dataframe and write down the attributes and their types (Cache the dataframe in memory)**"
   ]
  },
  {
   "cell_type": "code",
   "execution_count": 11,
   "metadata": {
    "colab": {
     "base_uri": "https://localhost:8080/"
    },
    "id": "F43s5N71N8I7",
    "outputId": "7832af92-d7f2-439d-d9fe-2050eabe5293"
   },
   "outputs": [
    {
     "name": "stdout",
     "output_type": "stream",
     "text": [
      "root\n",
      " |-- age: integer (nullable = true)\n",
      " |-- fnlwgt: double (nullable = true)\n",
      " |-- education_num: double (nullable = true)\n",
      " |-- capital_gain: double (nullable = true)\n",
      " |-- capital_loss: double (nullable = true)\n",
      " |-- hours_per_week: double (nullable = true)\n",
      " |-- workclass: string (nullable = true)\n",
      " |-- education: string (nullable = true)\n",
      " |-- marital_status: string (nullable = true)\n",
      " |-- occupation: string (nullable = true)\n",
      " |-- relationship: string (nullable = true)\n",
      " |-- race: string (nullable = true)\n",
      " |-- sex: string (nullable = true)\n",
      " |-- native_country: string (nullable = true)\n",
      " |-- category: string (nullable = true)\n",
      "\n"
     ]
    }
   ],
   "source": [
    "df.printSchema()"
   ]
  },
  {
   "cell_type": "markdown",
   "metadata": {
    "id": "foc-5xObN8I7"
   },
   "source": [
    "**Get a summary statistics, of the data, you can use describe(). It will compute the count, mean, standard deviation, min, max**"
   ]
  },
  {
   "cell_type": "code",
   "execution_count": 12,
   "metadata": {
    "colab": {
     "base_uri": "https://localhost:8080/",
     "height": 340
    },
    "id": "2Zt7yLoAN8I7",
    "outputId": "c0a9bca9-2815-43f0-fbc5-5757dd9d036d"
   },
   "outputs": [
    {
     "data": {
      "text/html": [
       "<div>\n",
       "<style scoped>\n",
       "    .dataframe tbody tr th:only-of-type {\n",
       "        vertical-align: middle;\n",
       "    }\n",
       "\n",
       "    .dataframe tbody tr th {\n",
       "        vertical-align: top;\n",
       "    }\n",
       "\n",
       "    .dataframe thead th {\n",
       "        text-align: right;\n",
       "    }\n",
       "</style>\n",
       "<table border=\"1\" class=\"dataframe\">\n",
       "  <thead>\n",
       "    <tr style=\"text-align: right;\">\n",
       "      <th></th>\n",
       "      <th>summary</th>\n",
       "      <th>age</th>\n",
       "      <th>fnlwgt</th>\n",
       "      <th>education_num</th>\n",
       "      <th>capital_gain</th>\n",
       "      <th>capital_loss</th>\n",
       "      <th>hours_per_week</th>\n",
       "      <th>workclass</th>\n",
       "      <th>education</th>\n",
       "      <th>marital_status</th>\n",
       "      <th>occupation</th>\n",
       "      <th>relationship</th>\n",
       "      <th>race</th>\n",
       "      <th>sex</th>\n",
       "      <th>native_country</th>\n",
       "      <th>category</th>\n",
       "    </tr>\n",
       "  </thead>\n",
       "  <tbody>\n",
       "    <tr>\n",
       "      <th>0</th>\n",
       "      <td>count</td>\n",
       "      <td>32561</td>\n",
       "      <td>32561</td>\n",
       "      <td>32561</td>\n",
       "      <td>32561</td>\n",
       "      <td>32561</td>\n",
       "      <td>32561</td>\n",
       "      <td>32561</td>\n",
       "      <td>32561</td>\n",
       "      <td>32561</td>\n",
       "      <td>32561</td>\n",
       "      <td>32561</td>\n",
       "      <td>32561</td>\n",
       "      <td>32561</td>\n",
       "      <td>32561</td>\n",
       "      <td>32561</td>\n",
       "    </tr>\n",
       "    <tr>\n",
       "      <th>1</th>\n",
       "      <td>mean</td>\n",
       "      <td>38.58164675532078</td>\n",
       "      <td>189778.36651208502</td>\n",
       "      <td>10.0806793403151</td>\n",
       "      <td>1077.6488437087312</td>\n",
       "      <td>87.303829734959</td>\n",
       "      <td>40.437455852092995</td>\n",
       "      <td>None</td>\n",
       "      <td>None</td>\n",
       "      <td>None</td>\n",
       "      <td>None</td>\n",
       "      <td>None</td>\n",
       "      <td>None</td>\n",
       "      <td>None</td>\n",
       "      <td>None</td>\n",
       "      <td>None</td>\n",
       "    </tr>\n",
       "    <tr>\n",
       "      <th>2</th>\n",
       "      <td>stddev</td>\n",
       "      <td>13.640432553581356</td>\n",
       "      <td>105549.97769702227</td>\n",
       "      <td>2.572720332067397</td>\n",
       "      <td>7385.292084840354</td>\n",
       "      <td>402.960218649002</td>\n",
       "      <td>12.347428681731838</td>\n",
       "      <td>None</td>\n",
       "      <td>None</td>\n",
       "      <td>None</td>\n",
       "      <td>None</td>\n",
       "      <td>None</td>\n",
       "      <td>None</td>\n",
       "      <td>None</td>\n",
       "      <td>None</td>\n",
       "      <td>None</td>\n",
       "    </tr>\n",
       "    <tr>\n",
       "      <th>3</th>\n",
       "      <td>min</td>\n",
       "      <td>17</td>\n",
       "      <td>12285.0</td>\n",
       "      <td>1.0</td>\n",
       "      <td>0.0</td>\n",
       "      <td>0.0</td>\n",
       "      <td>1.0</td>\n",
       "      <td>?</td>\n",
       "      <td>10th</td>\n",
       "      <td>Divorced</td>\n",
       "      <td>?</td>\n",
       "      <td>Husband</td>\n",
       "      <td>Amer-Indian-Eskimo</td>\n",
       "      <td>Female</td>\n",
       "      <td>?</td>\n",
       "      <td>&lt;=50K</td>\n",
       "    </tr>\n",
       "    <tr>\n",
       "      <th>4</th>\n",
       "      <td>max</td>\n",
       "      <td>90</td>\n",
       "      <td>1484705.0</td>\n",
       "      <td>16.0</td>\n",
       "      <td>99999.0</td>\n",
       "      <td>4356.0</td>\n",
       "      <td>99.0</td>\n",
       "      <td>Without-pay</td>\n",
       "      <td>Some-college</td>\n",
       "      <td>Widowed</td>\n",
       "      <td>Transport-moving</td>\n",
       "      <td>Wife</td>\n",
       "      <td>White</td>\n",
       "      <td>Male</td>\n",
       "      <td>Yugoslavia</td>\n",
       "      <td>&gt;50K</td>\n",
       "    </tr>\n",
       "  </tbody>\n",
       "</table>\n",
       "</div>"
      ],
      "text/plain": [
       "  summary                 age              fnlwgt      education_num  \\\n",
       "0   count               32561               32561              32561   \n",
       "1    mean   38.58164675532078  189778.36651208502   10.0806793403151   \n",
       "2  stddev  13.640432553581356  105549.97769702227  2.572720332067397   \n",
       "3     min                  17             12285.0                1.0   \n",
       "4     max                  90           1484705.0               16.0   \n",
       "\n",
       "         capital_gain      capital_loss      hours_per_week     workclass  \\\n",
       "0               32561             32561               32561         32561   \n",
       "1  1077.6488437087312   87.303829734959  40.437455852092995          None   \n",
       "2   7385.292084840354  402.960218649002  12.347428681731838          None   \n",
       "3                 0.0               0.0                 1.0             ?   \n",
       "4             99999.0            4356.0                99.0   Without-pay   \n",
       "\n",
       "       education marital_status         occupation relationship  \\\n",
       "0          32561          32561              32561        32561   \n",
       "1           None           None               None         None   \n",
       "2           None           None               None         None   \n",
       "3           10th       Divorced                  ?      Husband   \n",
       "4   Some-college        Widowed   Transport-moving         Wife   \n",
       "\n",
       "                  race      sex native_country category  \n",
       "0                32561    32561          32561    32561  \n",
       "1                 None     None           None     None  \n",
       "2                 None     None           None     None  \n",
       "3   Amer-Indian-Eskimo   Female              ?    <=50K  \n",
       "4                White     Male     Yugoslavia     >50K  "
      ]
     },
     "execution_count": 12,
     "metadata": {},
     "output_type": "execute_result"
    }
   ],
   "source": [
    "df.describe().toPandas()"
   ]
  },
  {
   "cell_type": "markdown",
   "metadata": {},
   "source": [
    "**Notice how many of our variables are categorical. The description isn't very helpful for them. Let's focus on the numeric columns only**"
   ]
  },
  {
   "cell_type": "code",
   "execution_count": 13,
   "metadata": {},
   "outputs": [
    {
     "data": {
      "text/html": [
       "<div>\n",
       "<style scoped>\n",
       "    .dataframe tbody tr th:only-of-type {\n",
       "        vertical-align: middle;\n",
       "    }\n",
       "\n",
       "    .dataframe tbody tr th {\n",
       "        vertical-align: top;\n",
       "    }\n",
       "\n",
       "    .dataframe thead th {\n",
       "        text-align: right;\n",
       "    }\n",
       "</style>\n",
       "<table border=\"1\" class=\"dataframe\">\n",
       "  <thead>\n",
       "    <tr style=\"text-align: right;\">\n",
       "      <th></th>\n",
       "      <th>summary</th>\n",
       "      <th>age</th>\n",
       "      <th>fnlwgt</th>\n",
       "      <th>education_num</th>\n",
       "      <th>capital_gain</th>\n",
       "      <th>capital_loss</th>\n",
       "      <th>hours_per_week</th>\n",
       "    </tr>\n",
       "  </thead>\n",
       "  <tbody>\n",
       "    <tr>\n",
       "      <th>0</th>\n",
       "      <td>count</td>\n",
       "      <td>32561</td>\n",
       "      <td>32561</td>\n",
       "      <td>32561</td>\n",
       "      <td>32561</td>\n",
       "      <td>32561</td>\n",
       "      <td>32561</td>\n",
       "    </tr>\n",
       "    <tr>\n",
       "      <th>1</th>\n",
       "      <td>mean</td>\n",
       "      <td>38.58164675532078</td>\n",
       "      <td>189778.36651208502</td>\n",
       "      <td>10.0806793403151</td>\n",
       "      <td>1077.6488437087312</td>\n",
       "      <td>87.303829734959</td>\n",
       "      <td>40.437455852092995</td>\n",
       "    </tr>\n",
       "    <tr>\n",
       "      <th>2</th>\n",
       "      <td>stddev</td>\n",
       "      <td>13.640432553581356</td>\n",
       "      <td>105549.97769702227</td>\n",
       "      <td>2.572720332067397</td>\n",
       "      <td>7385.292084840354</td>\n",
       "      <td>402.960218649002</td>\n",
       "      <td>12.347428681731838</td>\n",
       "    </tr>\n",
       "    <tr>\n",
       "      <th>3</th>\n",
       "      <td>min</td>\n",
       "      <td>17</td>\n",
       "      <td>12285.0</td>\n",
       "      <td>1.0</td>\n",
       "      <td>0.0</td>\n",
       "      <td>0.0</td>\n",
       "      <td>1.0</td>\n",
       "    </tr>\n",
       "    <tr>\n",
       "      <th>4</th>\n",
       "      <td>max</td>\n",
       "      <td>90</td>\n",
       "      <td>1484705.0</td>\n",
       "      <td>16.0</td>\n",
       "      <td>99999.0</td>\n",
       "      <td>4356.0</td>\n",
       "      <td>99.0</td>\n",
       "    </tr>\n",
       "  </tbody>\n",
       "</table>\n",
       "</div>"
      ],
      "text/plain": [
       "  summary                 age              fnlwgt      education_num  \\\n",
       "0   count               32561               32561              32561   \n",
       "1    mean   38.58164675532078  189778.36651208502   10.0806793403151   \n",
       "2  stddev  13.640432553581356  105549.97769702227  2.572720332067397   \n",
       "3     min                  17             12285.0                1.0   \n",
       "4     max                  90           1484705.0               16.0   \n",
       "\n",
       "         capital_gain      capital_loss      hours_per_week  \n",
       "0               32561             32561               32561  \n",
       "1  1077.6488437087312   87.303829734959  40.437455852092995  \n",
       "2   7385.292084840354  402.960218649002  12.347428681731838  \n",
       "3                 0.0               0.0                 1.0  \n",
       "4             99999.0            4356.0                99.0  "
      ]
     },
     "execution_count": 13,
     "metadata": {},
     "output_type": "execute_result"
    }
   ],
   "source": [
    "#Looking only at numeric variables\n",
    "df.describe(\"age\", \"fnlwgt\", \"education_num\", \"capital_gain\", \"capital_loss\", \"hours_per_week\").toPandas() #Leveraging the describe function\n",
    "#df[[\"age\", \"fnlwgt\", \"education_num\", \"capital_gain\", \"capital_loss\", \"hours_per_week\"]].describe().toPandas() #Pandas-like syntax\n",
    "#df.select(\"age\", \"fnlwgt\", \"education_num\", \"capital_gain\", \"capital_loss\", \"hours_per_week\").describe().toPandas() #SQL like syntax"
   ]
  },
  {
   "cell_type": "markdown",
   "metadata": {},
   "source": [
    "**We can use the function distinct to evaluate how many categories there are. Also, we can use groupby to see the counts by category**"
   ]
  },
  {
   "cell_type": "code",
   "execution_count": 14,
   "metadata": {},
   "outputs": [
    {
     "data": {
      "text/html": [
       "<table border='1'>\n",
       "<tr><th>race</th><th>count</th></tr>\n",
       "<tr><td> Asian-Pac-Islander</td><td>1039</td></tr>\n",
       "<tr><td> Black</td><td>3124</td></tr>\n",
       "<tr><td> Other</td><td>271</td></tr>\n",
       "<tr><td> White</td><td>27816</td></tr>\n",
       "<tr><td> Amer-Indian-Eskimo</td><td>311</td></tr>\n",
       "</table>\n"
      ],
      "text/plain": [
       "+-------------------+-----+\n",
       "|               race|count|\n",
       "+-------------------+-----+\n",
       "| Asian-Pac-Islander| 1039|\n",
       "|              Black| 3124|\n",
       "|              Other|  271|\n",
       "|              White|27816|\n",
       "| Amer-Indian-Eskimo|  311|\n",
       "+-------------------+-----+"
      ]
     },
     "execution_count": 14,
     "metadata": {},
     "output_type": "execute_result"
    }
   ],
   "source": [
    "#df.select(\"race\").distinct()\n",
    "df.groupby(\"race\").count()"
   ]
  },
  {
   "cell_type": "markdown",
   "metadata": {
    "id": "h1gMQCGEN8I8"
   },
   "source": [
    "**In some occasion, it can be interesting to see the descriptive statistics between two pairwise columns. Count the number of people with income below or above 50k by education level. This operation is called a crosstab.**"
   ]
  },
  {
   "cell_type": "code",
   "execution_count": 15,
   "metadata": {
    "colab": {
     "base_uri": "https://localhost:8080/"
    },
    "id": "yXM5yc-wN8I8",
    "outputId": "bbc09913-1003-49be-c44c-7214063baa87"
   },
   "outputs": [
    {
     "name": "stdout",
     "output_type": "stream",
     "text": [
      "+------------+------+-----+\n",
      "|age_category| <=50K| >50K|\n",
      "+------------+------+-----+\n",
      "|          17|   395|    0|\n",
      "|          18|   550|    0|\n",
      "|          19|   710|    2|\n",
      "|          20|   753|    0|\n",
      "|          21|   717|    3|\n",
      "|          22|   752|   13|\n",
      "|          23|   865|   12|\n",
      "|          24|   767|   31|\n",
      "|          25|   788|   53|\n",
      "|          26|   722|   63|\n",
      "|          27|   754|   81|\n",
      "|          28|   748|  119|\n",
      "|          29|   679|  134|\n",
      "|          30|   690|  171|\n",
      "|          31|   705|  183|\n",
      "|          32|   639|  189|\n",
      "|          33|   684|  191|\n",
      "|          34|   643|  243|\n",
      "|          35|   659|  217|\n",
      "|          36|   635|  263|\n",
      "|          37|   566|  292|\n",
      "|          38|   545|  282|\n",
      "|          39|   538|  278|\n",
      "|          40|   526|  268|\n",
      "|          41|   529|  279|\n",
      "|          42|   510|  270|\n",
      "|          43|   497|  273|\n",
      "|          44|   443|  281|\n",
      "|          45|   446|  288|\n",
      "|          46|   445|  292|\n",
      "|          47|   420|  288|\n",
      "|          48|   326|  217|\n",
      "|          49|   371|  206|\n",
      "|          50|   341|  261|\n",
      "|          51|   353|  242|\n",
      "|          52|   286|  192|\n",
      "|          53|   275|  189|\n",
      "|          54|   242|  173|\n",
      "|          55|   273|  146|\n",
      "|          56|   248|  118|\n",
      "|          57|   227|  131|\n",
      "|          58|   244|  122|\n",
      "|          59|   222|  133|\n",
      "|          60|   211|  101|\n",
      "|          61|   204|   96|\n",
      "|          62|   191|   67|\n",
      "|          63|   171|   59|\n",
      "|          64|   155|   53|\n",
      "|          65|   135|   43|\n",
      "|          66|   115|   35|\n",
      "|          67|   114|   37|\n",
      "|          68|    93|   27|\n",
      "|          69|    87|   21|\n",
      "|          70|    70|   19|\n",
      "|          71|    56|   16|\n",
      "|          72|    58|    9|\n",
      "|          73|    54|   10|\n",
      "|          74|    39|   12|\n",
      "|          75|    38|    7|\n",
      "|          76|    41|    5|\n",
      "|          77|    24|    5|\n",
      "|          78|    18|    5|\n",
      "|          79|    13|    9|\n",
      "|          80|    20|    2|\n",
      "|          81|    17|    3|\n",
      "|          82|    12|    0|\n",
      "|          83|     4|    2|\n",
      "|          84|     9|    1|\n",
      "|          85|     3|    0|\n",
      "|          86|     1|    0|\n",
      "|          87|     1|    0|\n",
      "|          88|     3|    0|\n",
      "|          90|    35|    8|\n",
      "+------------+------+-----+\n",
      "\n"
     ]
    }
   ],
   "source": [
    "df.crosstab('age', 'category').sort(\"age_category\").show(100)"
   ]
  },
  {
   "cell_type": "markdown",
   "metadata": {
    "id": "DD06IVQAN8I8"
   },
   "source": [
    "**Use drop() API to drop education_num column**"
   ]
  },
  {
   "cell_type": "code",
   "execution_count": 16,
   "metadata": {
    "colab": {
     "base_uri": "https://localhost:8080/"
    },
    "id": "Nsiaxt_aN8I8",
    "outputId": "aa765f83-f472-4e33-d1ae-ff8cf45affdb"
   },
   "outputs": [
    {
     "data": {
      "text/plain": [
       "['age',\n",
       " 'fnlwgt',\n",
       " 'education_num',\n",
       " 'capital_gain',\n",
       " 'capital_loss',\n",
       " 'hours_per_week',\n",
       " 'workclass',\n",
       " 'education',\n",
       " 'marital_status',\n",
       " 'occupation',\n",
       " 'relationship',\n",
       " 'race',\n",
       " 'sex',\n",
       " 'native_country',\n",
       " 'category']"
      ]
     },
     "execution_count": 16,
     "metadata": {},
     "output_type": "execute_result"
    }
   ],
   "source": [
    "df.drop('education-num').columns"
   ]
  },
  {
   "cell_type": "markdown",
   "metadata": {
    "id": "fJj3bkd5N8I8"
   },
   "source": [
    "### Data preparation (or data preprocessing)"
   ]
  },
  {
   "attachments": {},
   "cell_type": "markdown",
   "metadata": {
    "id": "1z39z0K_ynZ8"
   },
   "source": [
    "<p align=\"center\">\n",
    "<img src=\"https://content.altexsoft.com/media/2020/05/word-image-43.png\" width=\"600px\">\n",
    "</p>"
   ]
  },
  {
   "attachments": {},
   "cell_type": "markdown",
   "metadata": {
    "id": "eWu50LmHN8I8"
   },
   "source": [
    "Data processing is a critical step in machine learning. For instance, you know that age is not a linear function with the income. When people are young, their income is usually lower than mid-age. After retirement, a household uses their saving, meaning a decrease in income. To capture this pattern, you can apply a quadratic function to the age feature, creating a new feature. \n",
    "\n",
    "<p align=\"center\">\n",
    "<img src=\"https://richbeveridge.files.wordpress.com/2009/10/general-parabola.jpg\" width=\"600px\">\n",
    "</p>\n",
    "\n",
    "Such graphed equation can be defined as an inverse parabola with the formula: $-0.05x² + 5.5x - 55$. This equation is arbritary, but can act as a feature based on the age and income understanding.\n",
    "\n",
    "To add a new feature, you need to:  "
   ]
  },
  {
   "cell_type": "markdown",
   "metadata": {
    "id": "rPESsiGYN8I8"
   },
   "source": [
    "* **Select the column**\n",
    "* **Apply the transformation and add it to the DataFrame**\n",
    "\n",
    "**After applying the transformation, print the schema**"
   ]
  },
  {
   "cell_type": "code",
   "execution_count": 17,
   "metadata": {
    "colab": {
     "base_uri": "https://localhost:8080/"
    },
    "id": "B2aUcwJlN8I9",
    "outputId": "54c25682-d700-439f-d05e-12e192d4b63f"
   },
   "outputs": [
    {
     "name": "stdout",
     "output_type": "stream",
     "text": [
      "root\n",
      " |-- age: integer (nullable = true)\n",
      " |-- fnlwgt: double (nullable = true)\n",
      " |-- education_num: double (nullable = true)\n",
      " |-- capital_gain: double (nullable = true)\n",
      " |-- capital_loss: double (nullable = true)\n",
      " |-- hours_per_week: double (nullable = true)\n",
      " |-- workclass: string (nullable = true)\n",
      " |-- education: string (nullable = true)\n",
      " |-- marital_status: string (nullable = true)\n",
      " |-- occupation: string (nullable = true)\n",
      " |-- relationship: string (nullable = true)\n",
      " |-- race: string (nullable = true)\n",
      " |-- sex: string (nullable = true)\n",
      " |-- native_country: string (nullable = true)\n",
      " |-- category: string (nullable = true)\n",
      " |-- age_square: double (nullable = true)\n",
      "\n"
     ]
    }
   ],
   "source": [
    "from pyspark.sql.functions import *\n",
    "\n",
    "#  Apply the transformation and add it to the DataFrame\n",
    "df = df.withColumn(\"age_square\", -0.05*col(\"age\")**2 + 5.5*col(\"age\")-55)\n",
    "\n",
    "df.printSchema()"
   ]
  },
  {
   "cell_type": "markdown",
   "metadata": {
    "id": "7liBCf4pN8I9"
   },
   "source": [
    "**You can see that age_square has been successfully added to the data frame. Now change the order of the variables with select; bring age_square right after age and then print the first record.**"
   ]
  },
  {
   "cell_type": "code",
   "execution_count": 18,
   "metadata": {
    "colab": {
     "base_uri": "https://localhost:8080/"
    },
    "id": "CfPoP-KFN8I9",
    "outputId": "e9b4f63c-141d-41f5-a431-f1b231616aaa"
   },
   "outputs": [
    {
     "name": "stdout",
     "output_type": "stream",
     "text": [
      "+---+-----------------+-----------------+-------+----------+-------------------+----------------+--------------+------+-----+------------+------------+--------------+--------------+--------+\n",
      "|age|       age_square|        workclass| fnlwgt| education|     marital_status|      occupation|  relationship|  race|  sex|capital_gain|capital_loss|hours_per_week|native_country|category|\n",
      "+---+-----------------+-----------------+-------+----------+-------------------+----------------+--------------+------+-----+------------+------------+--------------+--------------+--------+\n",
      "| 39|83.44999999999999|        State-gov|77516.0| Bachelors|      Never-married|    Adm-clerical| Not-in-family| White| Male|      2174.0|         0.0|          40.0| United-States|   <=50K|\n",
      "| 50|             95.0| Self_emp-not-inc|83311.0| Bachelors| Married-civ-spouse| Exec-managerial|       Husband| White| Male|         0.0|         0.0|          13.0| United-States|   <=50K|\n",
      "+---+-----------------+-----------------+-------+----------+-------------------+----------------+--------------+------+-----+------------+------------+--------------+--------------+--------+\n",
      "only showing top 2 rows\n",
      "\n"
     ]
    }
   ],
   "source": [
    "COLUMNS = ['age', 'age_square', 'workclass', 'fnlwgt', 'education', 'marital_status', 'occupation', 'relationship', 'race', 'sex', 'capital_gain', 'capital_loss', 'hours_per_week', 'native_country', 'category']\n",
    "df = df.select(COLUMNS)\n",
    "df.show(2)"
   ]
  },
  {
   "cell_type": "markdown",
   "metadata": {
    "id": "7BYe9V-KN8I9"
   },
   "source": [
    "Spark has two different machine learning libraries, SparkML DataFrame-based is the default one and the SparkML RDD-based has entered maintenance mode. We will use the default one which is defined in pyspark.ml."
   ]
  },
  {
   "attachments": {
    "55c44338-6fc3-4faf-80fc-2511e7b50ba9.png": {
     "image/png": "[encoded data removed]"
    }
   },
   "cell_type": "markdown",
   "metadata": {
    "id": "-MMaRhVmN8I9"
   },
   "source": [
    "#### On pipelining with Spark\n",
    "\n",
    "Similar to scikit-learn, Pyspark has a pipeline API. A pipeline is very convenient to maintain the structure of the data. You push the data into the pipeline. Inside the pipeline, various operations are done, the output is used to feed the algorithm.\n",
    "\n",
    "![image.png](attachment:55c44338-6fc3-4faf-80fc-2511e7b50ba9.png)\n",
    "\n",
    "\n",
    "**Since we are going to try Logistic Regression algorithm, we will have to convert the categorical variables in the dataset into numeric variables. There are 2 ways we can do this.**\n",
    "  *  **Category Indexing:** this is basically assigning a numeric value to each category from {0, 1, 2, ...numCategories-1}. This introduces an implicit ordering among your categories, and is more suitable for ordinal variables (eg: Poor: 0, Average: 1, Good: 2)\n",
    "  * **One-Hot Encoding:** this converts categories into binary vectors with at most one nonzero value (eg: (Blue: [1, 0]), (Green: [0, 1]), (Red: [0, 0]))\n",
    "\n",
    "Here, we will use a combination of StringIndexer and OneHotEncoderEstimator to convert the categorical variables.\n",
    "   \n",
    "Since we will have more than 1 stage of feature transformations, we use a Pipeline to tie the stages together. This simplifies our code."
   ]
  },
  {
   "cell_type": "markdown",
   "metadata": {
    "id": "M0yVuj0mN8I9"
   },
   "source": [
    "**1. Index each categorical column using the StringIndexer, and then converts the indexed categories into one-hot encoded variables. The resulting output has the binary vectors appended to the end of each row.**"
   ]
  },
  {
   "cell_type": "code",
   "execution_count": 19,
   "metadata": {
    "id": "iQqyAiTsN8I9"
   },
   "outputs": [],
   "source": [
    "from pyspark.mllib.linalg import Vectors\n",
    "from pyspark.ml.param import Param, Params\n",
    "from pyspark.ml.feature import OneHotEncoder, VectorAssembler, StringIndexer, Normalizer\n",
    "from pyspark.ml import Pipeline"
   ]
  },
  {
   "cell_type": "code",
   "execution_count": 20,
   "metadata": {
    "id": "rlUeUElWN8I-"
   },
   "outputs": [],
   "source": [
    "from pyspark.ml import Pipeline\n",
    "from pyspark.ml.feature import OneHotEncoder\n",
    "CATE_FEATURES = ['workclass', 'education', 'marital_status', 'occupation', 'relationship', 'race', 'sex', 'native_country']\n",
    "stages = [] # stages in our Pipeline\n",
    "for categoricalCol in CATE_FEATURES:\n",
    "    stringIndexer = StringIndexer(inputCol=categoricalCol, outputCol=categoricalCol + \"Index\")\n",
    "    encoder = OneHotEncoder(inputCols=[stringIndexer.getOutputCol()], outputCols=[categoricalCol + \"classVec\"])\n",
    "    stages += [stringIndexer, encoder]"
   ]
  },
  {
   "cell_type": "markdown",
   "metadata": {
    "id": "Kb6DPhl7N8I-"
   },
   "source": [
    "**2. Index the class label (category)**\n",
    "\n",
    "Spark, like many other libraries, does not accept string values for the label. You convert the label feature with StringIndexer and add it to the list stages"
   ]
  },
  {
   "cell_type": "code",
   "execution_count": 21,
   "metadata": {
    "colab": {
     "base_uri": "https://localhost:8080/"
    },
    "id": "olrX8FWELZOa",
    "outputId": "43607c33-fcbf-4079-eca3-b5c1c13d2fbd"
   },
   "outputs": [
    {
     "name": "stdout",
     "output_type": "stream",
     "text": [
      "+---+-----------------+-----------------+-------+----------+-------------------+----------------+--------------+------+-----+------------+------------+--------------+--------------+--------+\n",
      "|age|       age_square|        workclass| fnlwgt| education|     marital_status|      occupation|  relationship|  race|  sex|capital_gain|capital_loss|hours_per_week|native_country|category|\n",
      "+---+-----------------+-----------------+-------+----------+-------------------+----------------+--------------+------+-----+------------+------------+--------------+--------------+--------+\n",
      "| 39|83.44999999999999|        State-gov|77516.0| Bachelors|      Never-married|    Adm-clerical| Not-in-family| White| Male|      2174.0|         0.0|          40.0| United-States|   <=50K|\n",
      "| 50|             95.0| Self_emp-not-inc|83311.0| Bachelors| Married-civ-spouse| Exec-managerial|       Husband| White| Male|         0.0|         0.0|          13.0| United-States|   <=50K|\n",
      "+---+-----------------+-----------------+-------+----------+-------------------+----------------+--------------+------+-----+------------+------------+--------------+--------------+--------+\n",
      "only showing top 2 rows\n",
      "\n"
     ]
    }
   ],
   "source": [
    "df.show(2)"
   ]
  },
  {
   "cell_type": "code",
   "execution_count": 22,
   "metadata": {
    "id": "9VttTv4iN8I-"
   },
   "outputs": [],
   "source": [
    "# Convert label into label indices using the StringIndexer\n",
    "label_stringIdx =  StringIndexer(inputCol=\"category\", outputCol=\"label\")\n",
    "stages += [label_stringIdx]"
   ]
  },
  {
   "cell_type": "markdown",
   "metadata": {
    "id": "iIfdzBkqN8I-"
   },
   "source": [
    "**3. Use a VectorAssembler to combine all the feature columns into a single vector column. This includes both the numeric columns and the one-hot encoded binary vector columns in our dataset.**\n"
   ]
  },
  {
   "cell_type": "code",
   "execution_count": 23,
   "metadata": {
    "id": "vi1A8iR_N8I-"
   },
   "outputs": [],
   "source": [
    "# Transform all features into a vector using VectorAssembler\n",
    "numericCols = [\"age\", \"age_square\", \"fnlwgt\", \"capital_gain\", \"capital_loss\", \"hours_per_week\"]\n",
    "assemblerInputs = [c + \"classVec\" for c in CATE_FEATURES] + numericCols\n",
    "assembler = VectorAssembler(inputCols=assemblerInputs, outputCol=\"features\")\n",
    "stages += [assembler]"
   ]
  },
  {
   "cell_type": "markdown",
   "metadata": {
    "id": "jUG1qvJhN8I-"
   },
   "source": [
    "**4. Now that all the steps are ready, push the data to the pipeline.**"
   ]
  },
  {
   "cell_type": "code",
   "execution_count": 24,
   "metadata": {
    "id": "i_Ccc0doN8I-"
   },
   "outputs": [],
   "source": [
    "# Create a Pipeline.\n",
    "pipeline = Pipeline().setStages(stages)\n",
    "pipelineModel = pipeline.fit(df)\n",
    "PreparedData = pipelineModel.transform(df)"
   ]
  },
  {
   "cell_type": "code",
   "execution_count": 25,
   "metadata": {
    "colab": {
     "base_uri": "https://localhost:8080/"
    },
    "id": "VxS2Ar7uN8I-",
    "outputId": "7183b469-ed7c-44e3-ff2e-e3ceb41b13c8"
   },
   "outputs": [
    {
     "name": "stdout",
     "output_type": "stream",
     "text": [
      "-RECORD 0---------------------------------------------------------------------------------------------------------------------------------------------\n",
      " age                    | 39                                                                                                                          \n",
      " age_square             | 83.44999999999999                                                                                                           \n",
      " workclass              |  State-gov                                                                                                                  \n",
      " fnlwgt                 | 77516.0                                                                                                                     \n",
      " education              |  Bachelors                                                                                                                  \n",
      " marital_status         |  Never-married                                                                                                              \n",
      " occupation             |  Adm-clerical                                                                                                               \n",
      " relationship           |  Not-in-family                                                                                                              \n",
      " race                   |  White                                                                                                                      \n",
      " sex                    |  Male                                                                                                                       \n",
      " capital_gain           | 2174.0                                                                                                                      \n",
      " capital_loss           | 0.0                                                                                                                         \n",
      " hours_per_week         | 40.0                                                                                                                        \n",
      " native_country         |  United-States                                                                                                              \n",
      " category               |  <=50K                                                                                                                      \n",
      " workclassIndex         | 4.0                                                                                                                         \n",
      " workclassclassVec      | (9,[4],[1.0])                                                                                                               \n",
      " educationIndex         | 2.0                                                                                                                         \n",
      " educationclassVec      | (15,[2],[1.0])                                                                                                              \n",
      " marital_statusIndex    | 1.0                                                                                                                         \n",
      " marital_statusclassVec | (6,[1],[1.0])                                                                                                               \n",
      " occupationIndex        | 3.0                                                                                                                         \n",
      " occupationclassVec     | (14,[3],[1.0])                                                                                                              \n",
      " relationshipIndex      | 1.0                                                                                                                         \n",
      " relationshipclassVec   | (5,[1],[1.0])                                                                                                               \n",
      " raceIndex              | 0.0                                                                                                                         \n",
      " raceclassVec           | (4,[0],[1.0])                                                                                                               \n",
      " sexIndex               | 0.0                                                                                                                         \n",
      " sexclassVec            | (1,[0],[1.0])                                                                                                               \n",
      " native_countryIndex    | 0.0                                                                                                                         \n",
      " native_countryclassVec | (41,[0],[1.0])                                                                                                              \n",
      " label                  | 0.0                                                                                                                         \n",
      " features               | (101,[4,11,25,33,45,49,53,54,95,96,97,98,100],[1.0,1.0,1.0,1.0,1.0,1.0,1.0,1.0,39.0,83.44999999999999,77516.0,2174.0,40.0]) \n",
      "only showing top 1 row\n",
      "\n"
     ]
    }
   ],
   "source": [
    "#PreparedData.show(1)\n",
    "PreparedData.show(n=1, truncate=False, vertical=True)"
   ]
  },
  {
   "cell_type": "markdown",
   "metadata": {
    "id": "TfQYN8hbN8I_"
   },
   "source": [
    "**Randomly split data into training and test sets. Set seed for reproducibility**"
   ]
  },
  {
   "cell_type": "code",
   "execution_count": 26,
   "metadata": {
    "colab": {
     "base_uri": "https://localhost:8080/"
    },
    "id": "h6xkEcBQN8I_",
    "outputId": "86c38fee-353d-4bb2-be38-ebbad617999b"
   },
   "outputs": [
    {
     "name": "stdout",
     "output_type": "stream",
     "text": [
      "22832\n",
      "9729\n"
     ]
    }
   ],
   "source": [
    "(trainingData, testData) = PreparedData.randomSplit([0.7, 0.3], seed=100)\n",
    "print(trainingData.count())\n",
    "print(testData.count())"
   ]
  },
  {
   "cell_type": "markdown",
   "metadata": {
    "id": "GZLZZgdXN8I_"
   },
   "source": [
    "#### Model training\n"
   ]
  },
  {
   "attachments": {},
   "cell_type": "markdown",
   "metadata": {
    "id": "1z39z0K_ynZ8"
   },
   "source": [
    "<p align=\"center\">\n",
    "<img src=\"https://content.altexsoft.com/media/2020/05/word-image-43.png\" width=\"600px\">\n",
    "</p>"
   ]
  },
  {
   "cell_type": "markdown",
   "metadata": {},
   "source": [
    "**Create initial LogisticRegression model and set the regularization parameter =0.1**"
   ]
  },
  {
   "cell_type": "code",
   "execution_count": 27,
   "metadata": {
    "id": "ALq6wTnpN8I_"
   },
   "outputs": [],
   "source": [
    "from pyspark.ml.classification import LogisticRegression\n",
    "\n",
    "lr = LogisticRegression(labelCol=\"label\", featuresCol=\"features\", maxIter=10, regParam=0.1)\n"
   ]
  },
  {
   "cell_type": "code",
   "execution_count": 28,
   "metadata": {
    "id": "y15dpVI4N8I_"
   },
   "outputs": [],
   "source": [
    "# Train model with Training Data\n",
    "lrModel = lr.fit(trainingData)"
   ]
  },
  {
   "cell_type": "code",
   "execution_count": 29,
   "metadata": {
    "id": "7goPd5lbN8I_"
   },
   "outputs": [],
   "source": [
    "# Make predictions on test data using the transform() method.\n",
    "# LogisticRegression.transform() will only use the 'features' column.\n",
    "predictions = lrModel.transform(testData)"
   ]
  },
  {
   "cell_type": "code",
   "execution_count": 30,
   "metadata": {
    "colab": {
     "base_uri": "https://localhost:8080/",
     "height": 225
    },
    "id": "kGo1Ntn-N8I_",
    "outputId": "5759f016-5929-4942-dfa4-a97bc1860bb8"
   },
   "outputs": [
    {
     "name": "stdout",
     "output_type": "stream",
     "text": [
      "+-----+----------+--------------------+---+\n",
      "|label|prediction|         probability|age|\n",
      "+-----+----------+--------------------+---+\n",
      "|  0.0|       0.0|[0.99000361616974...| 17|\n",
      "|  0.0|       0.0|[0.98483072032363...| 17|\n",
      "|  0.0|       0.0|[0.98664466872099...| 17|\n",
      "|  0.0|       0.0|[0.98236185047222...| 17|\n",
      "|  0.0|       0.0|[0.9847505913893,...| 17|\n",
      "+-----+----------+--------------------+---+\n",
      "only showing top 5 rows\n",
      "\n"
     ]
    },
    {
     "data": {
      "text/plain": [
       "None"
      ]
     },
     "metadata": {},
     "output_type": "display_data"
    }
   ],
   "source": [
    "# View model's predictions and probabilities of each prediction class\n",
    "# You can select any columns in the above schema to view as well. For example's sake we will choose age & occupation\n",
    "selected = predictions.select(\"label\", \"prediction\", \"probability\", \"age\")\n",
    "display(selected.show(5))\n"
   ]
  },
  {
   "cell_type": "markdown",
   "metadata": {
    "id": "1kQF9j-vN8I_"
   },
   "source": [
    "**We can use BinaryClassificationEvaluator to evaluate our model. We can set the required column names in rawPredictionCol and labelCol Param and the metric in metricName Param.**\n",
    "\n",
    "**Note that the default metric for the BinaryClassificationEvaluator is areaUnderROC**"
   ]
  },
  {
   "cell_type": "code",
   "execution_count": 31,
   "metadata": {
    "colab": {
     "base_uri": "https://localhost:8080/"
    },
    "id": "KqLFxJ4eN8I_",
    "outputId": "9d0838ca-3594-4f9a-c683-241d4300f534"
   },
   "outputs": [
    {
     "data": {
      "text/plain": [
       "0.8999565338720047"
      ]
     },
     "execution_count": 31,
     "metadata": {},
     "output_type": "execute_result"
    }
   ],
   "source": [
    "from pyspark.ml.evaluation import BinaryClassificationEvaluator\n",
    "\n",
    "# Evaluate model\n",
    "evaluator = BinaryClassificationEvaluator(rawPredictionCol=\"rawPrediction\")\n",
    "evaluator.evaluate(predictions)"
   ]
  },
  {
   "cell_type": "markdown",
   "metadata": {
    "id": "6uQbBsuBN8JA"
   },
   "source": [
    "### Model Hyperparameter Tuning"
   ]
  },
  {
   "cell_type": "markdown",
   "metadata": {
    "id": "FTxE6X-uN8JA"
   },
   "source": [
    "In machine learning problems, it is necessary to distinguish the model's parameters and hyperparameters (structural parameters). The model parameters are adjusted during the training process (e.g., weights in the linear model or the decision tree structure). On the other hand, hyperparameters are set in advance (for example, the regularization in linear model or maximum depth of the decision tree). Each model usually has many hyperparameters, and there is no universal set of optimal hyperparameters that work in all tasks. For each task, one should choose a different set of hyperparameters. Grid search is commonly used to optimize model hyperparameters. For each hyperparameter, several values are evaluated. The combination of parameter values where the model shows the best quality (in terms of the metric that is being optimized) is selected. However, in this case, it is necessary to correctly assess the constructed model, namely to do the split into training and testing samples."
   ]
  },
  {
   "cell_type": "markdown",
   "metadata": {
    "id": "R8A45kQwN8JA"
   },
   "source": [
    "**Now try the model with the ParamGridBuilder and the CrossValidator.**\n",
    "\n",
    "**If you are unsure what params are available for tuning, you can use explainParams() to print a list of all params and their definitions.**\n"
   ]
  },
  {
   "cell_type": "code",
   "execution_count": 32,
   "metadata": {
    "colab": {
     "base_uri": "https://localhost:8080/"
    },
    "id": "tDudklvXN8JA",
    "outputId": "d08f3cd6-f33d-45bf-8eed-70dc87025040"
   },
   "outputs": [
    {
     "name": "stdout",
     "output_type": "stream",
     "text": [
      "aggregationDepth: suggested depth for treeAggregate (>= 2). (default: 2)\n",
      "elasticNetParam: the ElasticNet mixing parameter, in range [0, 1]. For alpha = 0, the penalty is an L2 penalty. For alpha = 1, it is an L1 penalty. (default: 0.0)\n",
      "family: The name of family which is a description of the label distribution to be used in the model. Supported options: auto, binomial, multinomial (default: auto)\n",
      "featuresCol: features column name. (default: features, current: features)\n",
      "fitIntercept: whether to fit an intercept term. (default: True)\n",
      "labelCol: label column name. (default: label, current: label)\n",
      "lowerBoundsOnCoefficients: The lower bounds on coefficients if fitting under bound constrained optimization. The bound matrix must be compatible with the shape (1, number of features) for binomial regression, or (number of classes, number of features) for multinomial regression. (undefined)\n",
      "lowerBoundsOnIntercepts: The lower bounds on intercepts if fitting under bound constrained optimization. The bounds vector size must beequal with 1 for binomial regression, or the number oflasses for multinomial regression. (undefined)\n",
      "maxBlockSizeInMB: maximum memory in MB for stacking input data into blocks. Data is stacked within partitions. If more than remaining data size in a partition then it is adjusted to the data size. Default 0.0 represents choosing optimal value, depends on specific algorithm. Must be >= 0. (default: 0.0)\n",
      "maxIter: max number of iterations (>= 0). (default: 100, current: 10)\n",
      "predictionCol: prediction column name. (default: prediction)\n",
      "probabilityCol: Column name for predicted class conditional probabilities. Note: Not all models output well-calibrated probability estimates! These probabilities should be treated as confidences, not precise probabilities. (default: probability)\n",
      "rawPredictionCol: raw prediction (a.k.a. confidence) column name. (default: rawPrediction)\n",
      "regParam: regularization parameter (>= 0). (default: 0.0, current: 0.1)\n",
      "standardization: whether to standardize the training features before fitting the model. (default: True)\n",
      "threshold: Threshold in binary classification prediction, in range [0, 1]. If threshold and thresholds are both set, they must match.e.g. if threshold is p, then thresholds must be equal to [1-p, p]. (default: 0.5)\n",
      "thresholds: Thresholds in multi-class classification to adjust the probability of predicting each class. Array must have length equal to the number of classes, with values > 0, excepting that at most one value may be 0. The class with largest value p/t is predicted, where p is the original probability of that class and t is the class's threshold. (undefined)\n",
      "tol: the convergence tolerance for iterative algorithms (>= 0). (default: 1e-06)\n",
      "upperBoundsOnCoefficients: The upper bounds on coefficients if fitting under bound constrained optimization. The bound matrix must be compatible with the shape (1, number of features) for binomial regression, or (number of classes, number of features) for multinomial regression. (undefined)\n",
      "upperBoundsOnIntercepts: The upper bounds on intercepts if fitting under bound constrained optimization. The bound vector size must be equal with 1 for binomial regression, or the number of classes for multinomial regression. (undefined)\n",
      "weightCol: weight column name. If this is not set or empty, we treat all instance weights as 1.0. (undefined)\n"
     ]
    }
   ],
   "source": [
    "print(lr.explainParams())"
   ]
  },
  {
   "cell_type": "markdown",
   "metadata": {
    "id": "pU6dRJ8wN8JA"
   },
   "source": [
    "**As we indicate 3 values for regParam, 3 values for maxIter, and 3 values for elasticNetParam, this grid will have 3 x 3 x 3 = 27 parameter settings for CrossValidator to choose from. We will create a 5-fold cross validator.**"
   ]
  },
  {
   "cell_type": "code",
   "execution_count": 33,
   "metadata": {
    "id": "BZYfQTsiN8JA"
   },
   "outputs": [],
   "source": [
    "from pyspark.ml.tuning import ParamGridBuilder, CrossValidator\n",
    "\n",
    "# Create ParamGrid for Cross Validation\n",
    "paramGrid = (ParamGridBuilder()\n",
    "             .addGrid(lr.regParam, [0.01, 0.5, 2.0])\n",
    "             .addGrid(lr.elasticNetParam, [0.0, 0.5, 1.0])\n",
    "             .addGrid(lr.maxIter, [1, 5, 10])\n",
    "             .build())\n"
   ]
  },
  {
   "cell_type": "code",
   "execution_count": 34,
   "metadata": {
    "id": "Scl-dnVkN8JA"
   },
   "outputs": [],
   "source": [
    "# Create 5-fold CrossValidator\n",
    "cv = CrossValidator(estimator=lr, estimatorParamMaps=paramGrid, evaluator=evaluator, numFolds=5)\n",
    "\n",
    "# Run cross validations\n",
    "cvModel = cv.fit(trainingData)\n",
    "# this will likely take a fair amount of time because of the amount of models that we're creating and testing"
   ]
  },
  {
   "cell_type": "code",
   "execution_count": 35,
   "metadata": {
    "id": "jclT0mEmN8JA"
   },
   "outputs": [],
   "source": [
    "# Use test set to measure the accuracy of our model on new data\n",
    "predictions = cvModel.transform(testData)"
   ]
  },
  {
   "cell_type": "code",
   "execution_count": 36,
   "metadata": {
    "colab": {
     "base_uri": "https://localhost:8080/"
    },
    "id": "JDClcoG4N8JA",
    "outputId": "29f15fbd-2388-41dc-ada6-c7d1d83a8ac4"
   },
   "outputs": [
    {
     "data": {
      "text/plain": [
       "0.909934479262013"
      ]
     },
     "execution_count": 36,
     "metadata": {},
     "output_type": "execute_result"
    }
   ],
   "source": [
    "# cvModel uses the best model found from the Cross Validation\n",
    "# Evaluate best model\n",
    "evaluator.evaluate(predictions)"
   ]
  },
  {
   "cell_type": "markdown",
   "metadata": {},
   "source": [
    "By using SparkML, we managed to get a regressor that has an $R²$ value of nearly $0.9$. From this, you can experiment with other models, other tasks (Classification, Clustering) and try to implement your ML models"
   ]
  },
  {
   "cell_type": "markdown",
   "metadata": {
    "id": "qj_J-GbRRivQ"
   },
   "source": [
    "## Part 2\n",
    "In the second part of our practice session, we'll talk about unsupervised learning methods like Kmeans and PCA! As a result, we will build a kmeans model here."
   ]
  },
  {
   "cell_type": "markdown",
   "metadata": {
    "id": "4DrHiq1SRw2O"
   },
   "source": [
    "### Dataset\n",
    "<b>Dataset location: </b>https://www.kaggle.com/c/titanic/data?select=train.csv"
   ]
  },
  {
   "cell_type": "code",
   "execution_count": 37,
   "metadata": {},
   "outputs": [
    {
     "name": "stdout",
     "output_type": "stream",
     "text": [
      "Archive:  titanic.zip\n"
     ]
    }
   ],
   "source": [
    "!unzip -u titanic.zip"
   ]
  },
  {
   "cell_type": "code",
   "execution_count": 38,
   "metadata": {
    "id": "QyhwMNxeUut1"
   },
   "outputs": [],
   "source": [
    "from pyspark.sql import SparkSession\n",
    "\n",
    "spark = SparkSession \\\n",
    "    .builder \\\n",
    "    .appName('Examine data about passengers on the Titanic') \\\n",
    "    .getOrCreate()\n",
    "\n",
    "rawData = spark.read\\\n",
    "            .format('csv')\\\n",
    "            .option('header', 'true')\\\n",
    "            .load('./train.csv')"
   ]
  },
  {
   "cell_type": "markdown",
   "metadata": {
    "id": "16HxdHFJU5fd"
   },
   "source": [
    "### EDA\n",
    "Let us get familiar with the data."
   ]
  },
  {
   "cell_type": "code",
   "execution_count": 39,
   "metadata": {
    "colab": {
     "base_uri": "https://localhost:8080/",
     "height": 206
    },
    "id": "DlZ0pOe8U08d",
    "outputId": "df1603c6-65b6-4275-f51c-b5d1810897ed"
   },
   "outputs": [
    {
     "data": {
      "text/html": [
       "<div>\n",
       "<style scoped>\n",
       "    .dataframe tbody tr th:only-of-type {\n",
       "        vertical-align: middle;\n",
       "    }\n",
       "\n",
       "    .dataframe tbody tr th {\n",
       "        vertical-align: top;\n",
       "    }\n",
       "\n",
       "    .dataframe thead th {\n",
       "        text-align: right;\n",
       "    }\n",
       "</style>\n",
       "<table border=\"1\" class=\"dataframe\">\n",
       "  <thead>\n",
       "    <tr style=\"text-align: right;\">\n",
       "      <th></th>\n",
       "      <th>PassengerId</th>\n",
       "      <th>Survived</th>\n",
       "      <th>Pclass</th>\n",
       "      <th>Name</th>\n",
       "      <th>Sex</th>\n",
       "      <th>Age</th>\n",
       "      <th>SibSp</th>\n",
       "      <th>Parch</th>\n",
       "      <th>Ticket</th>\n",
       "      <th>Fare</th>\n",
       "      <th>Cabin</th>\n",
       "      <th>Embarked</th>\n",
       "    </tr>\n",
       "  </thead>\n",
       "  <tbody>\n",
       "    <tr>\n",
       "      <th>0</th>\n",
       "      <td>1</td>\n",
       "      <td>0</td>\n",
       "      <td>3</td>\n",
       "      <td>Braund, Mr. Owen Harris</td>\n",
       "      <td>male</td>\n",
       "      <td>22</td>\n",
       "      <td>1</td>\n",
       "      <td>0</td>\n",
       "      <td>A/5 21171</td>\n",
       "      <td>7.25</td>\n",
       "      <td>None</td>\n",
       "      <td>S</td>\n",
       "    </tr>\n",
       "    <tr>\n",
       "      <th>1</th>\n",
       "      <td>2</td>\n",
       "      <td>1</td>\n",
       "      <td>1</td>\n",
       "      <td>Cumings, Mrs. John Bradley (Florence Briggs Th...</td>\n",
       "      <td>female</td>\n",
       "      <td>38</td>\n",
       "      <td>1</td>\n",
       "      <td>0</td>\n",
       "      <td>PC 17599</td>\n",
       "      <td>71.2833</td>\n",
       "      <td>C85</td>\n",
       "      <td>C</td>\n",
       "    </tr>\n",
       "    <tr>\n",
       "      <th>2</th>\n",
       "      <td>3</td>\n",
       "      <td>1</td>\n",
       "      <td>3</td>\n",
       "      <td>Heikkinen, Miss. Laina</td>\n",
       "      <td>female</td>\n",
       "      <td>26</td>\n",
       "      <td>0</td>\n",
       "      <td>0</td>\n",
       "      <td>STON/O2. 3101282</td>\n",
       "      <td>7.925</td>\n",
       "      <td>None</td>\n",
       "      <td>S</td>\n",
       "    </tr>\n",
       "    <tr>\n",
       "      <th>3</th>\n",
       "      <td>4</td>\n",
       "      <td>1</td>\n",
       "      <td>1</td>\n",
       "      <td>Futrelle, Mrs. Jacques Heath (Lily May Peel)</td>\n",
       "      <td>female</td>\n",
       "      <td>35</td>\n",
       "      <td>1</td>\n",
       "      <td>0</td>\n",
       "      <td>113803</td>\n",
       "      <td>53.1</td>\n",
       "      <td>C123</td>\n",
       "      <td>S</td>\n",
       "    </tr>\n",
       "    <tr>\n",
       "      <th>4</th>\n",
       "      <td>5</td>\n",
       "      <td>0</td>\n",
       "      <td>3</td>\n",
       "      <td>Allen, Mr. William Henry</td>\n",
       "      <td>male</td>\n",
       "      <td>35</td>\n",
       "      <td>0</td>\n",
       "      <td>0</td>\n",
       "      <td>373450</td>\n",
       "      <td>8.05</td>\n",
       "      <td>None</td>\n",
       "      <td>S</td>\n",
       "    </tr>\n",
       "  </tbody>\n",
       "</table>\n",
       "</div>"
      ],
      "text/plain": [
       "  PassengerId Survived Pclass  \\\n",
       "0           1        0      3   \n",
       "1           2        1      1   \n",
       "2           3        1      3   \n",
       "3           4        1      1   \n",
       "4           5        0      3   \n",
       "\n",
       "                                                Name     Sex Age SibSp Parch  \\\n",
       "0                            Braund, Mr. Owen Harris    male  22     1     0   \n",
       "1  Cumings, Mrs. John Bradley (Florence Briggs Th...  female  38     1     0   \n",
       "2                             Heikkinen, Miss. Laina  female  26     0     0   \n",
       "3       Futrelle, Mrs. Jacques Heath (Lily May Peel)  female  35     1     0   \n",
       "4                           Allen, Mr. William Henry    male  35     0     0   \n",
       "\n",
       "             Ticket     Fare Cabin Embarked  \n",
       "0         A/5 21171     7.25  None        S  \n",
       "1          PC 17599  71.2833   C85        C  \n",
       "2  STON/O2. 3101282    7.925  None        S  \n",
       "3            113803     53.1  C123        S  \n",
       "4            373450     8.05  None        S  "
      ]
     },
     "execution_count": 39,
     "metadata": {},
     "output_type": "execute_result"
    }
   ],
   "source": [
    "rawData.toPandas().head()"
   ]
  },
  {
   "cell_type": "markdown",
   "metadata": {
    "id": "Mxzw2nraU-TF"
   },
   "source": [
    "Select the columns which we required Also cast the numeric values as float"
   ]
  },
  {
   "cell_type": "code",
   "execution_count": 40,
   "metadata": {
    "colab": {
     "base_uri": "https://localhost:8080/"
    },
    "id": "wVgUWu0_VEkN",
    "outputId": "13e820e3-67cc-4ed4-b42e-0e66f0c6d5aa"
   },
   "outputs": [
    {
     "name": "stdout",
     "output_type": "stream",
     "text": [
      "root\n",
      " |-- PassengerId: string (nullable = true)\n",
      " |-- Survived: string (nullable = true)\n",
      " |-- Pclass: string (nullable = true)\n",
      " |-- Name: string (nullable = true)\n",
      " |-- Sex: string (nullable = true)\n",
      " |-- Age: string (nullable = true)\n",
      " |-- SibSp: string (nullable = true)\n",
      " |-- Parch: string (nullable = true)\n",
      " |-- Ticket: string (nullable = true)\n",
      " |-- Fare: string (nullable = true)\n",
      " |-- Cabin: string (nullable = true)\n",
      " |-- Embarked: string (nullable = true)\n",
      "\n"
     ]
    }
   ],
   "source": [
    "rawData.printSchema()"
   ]
  },
  {
   "cell_type": "code",
   "execution_count": 41,
   "metadata": {
    "colab": {
     "base_uri": "https://localhost:8080/",
     "height": 206
    },
    "id": "HopbfgLrVIv1",
    "outputId": "dcf9c805-b8a0-488d-ea61-4a124a216dee"
   },
   "outputs": [
    {
     "data": {
      "text/html": [
       "<div>\n",
       "<style scoped>\n",
       "    .dataframe tbody tr th:only-of-type {\n",
       "        vertical-align: middle;\n",
       "    }\n",
       "\n",
       "    .dataframe tbody tr th {\n",
       "        vertical-align: top;\n",
       "    }\n",
       "\n",
       "    .dataframe thead th {\n",
       "        text-align: right;\n",
       "    }\n",
       "</style>\n",
       "<table border=\"1\" class=\"dataframe\">\n",
       "  <thead>\n",
       "    <tr style=\"text-align: right;\">\n",
       "      <th></th>\n",
       "      <th>Survived</th>\n",
       "      <th>Pclass</th>\n",
       "      <th>Sex</th>\n",
       "      <th>Age</th>\n",
       "      <th>Fare</th>\n",
       "      <th>Embarked</th>\n",
       "    </tr>\n",
       "  </thead>\n",
       "  <tbody>\n",
       "    <tr>\n",
       "      <th>0</th>\n",
       "      <td>0.0</td>\n",
       "      <td>3.0</td>\n",
       "      <td>male</td>\n",
       "      <td>22.0</td>\n",
       "      <td>7.250000</td>\n",
       "      <td>S</td>\n",
       "    </tr>\n",
       "    <tr>\n",
       "      <th>1</th>\n",
       "      <td>1.0</td>\n",
       "      <td>1.0</td>\n",
       "      <td>female</td>\n",
       "      <td>38.0</td>\n",
       "      <td>71.283302</td>\n",
       "      <td>C</td>\n",
       "    </tr>\n",
       "    <tr>\n",
       "      <th>2</th>\n",
       "      <td>1.0</td>\n",
       "      <td>3.0</td>\n",
       "      <td>female</td>\n",
       "      <td>26.0</td>\n",
       "      <td>7.925000</td>\n",
       "      <td>S</td>\n",
       "    </tr>\n",
       "    <tr>\n",
       "      <th>3</th>\n",
       "      <td>1.0</td>\n",
       "      <td>1.0</td>\n",
       "      <td>female</td>\n",
       "      <td>35.0</td>\n",
       "      <td>53.099998</td>\n",
       "      <td>S</td>\n",
       "    </tr>\n",
       "    <tr>\n",
       "      <th>4</th>\n",
       "      <td>0.0</td>\n",
       "      <td>3.0</td>\n",
       "      <td>male</td>\n",
       "      <td>35.0</td>\n",
       "      <td>8.050000</td>\n",
       "      <td>S</td>\n",
       "    </tr>\n",
       "  </tbody>\n",
       "</table>\n",
       "</div>"
      ],
      "text/plain": [
       "   Survived  Pclass     Sex   Age       Fare Embarked\n",
       "0       0.0     3.0    male  22.0   7.250000        S\n",
       "1       1.0     1.0  female  38.0  71.283302        C\n",
       "2       1.0     3.0  female  26.0   7.925000        S\n",
       "3       1.0     1.0  female  35.0  53.099998        S\n",
       "4       0.0     3.0    male  35.0   8.050000        S"
      ]
     },
     "execution_count": 41,
     "metadata": {},
     "output_type": "execute_result"
    }
   ],
   "source": [
    "from pyspark.sql.functions import col\n",
    "\n",
    "dataset = rawData.select(col('Survived').cast('float'),\n",
    "                         col('Pclass').cast('float'),\n",
    "                         col('Sex'),\n",
    "                         col('Age').cast('float'),\n",
    "                         col('Fare').cast('float'),\n",
    "                         col('Embarked')\n",
    "                        )\n",
    "\n",
    "dataset.toPandas().head()"
   ]
  },
  {
   "cell_type": "markdown",
   "metadata": {
    "id": "i6wYGYL3VMpt"
   },
   "source": [
    "Drop rows containing missing values"
   ]
  },
  {
   "cell_type": "code",
   "execution_count": 42,
   "metadata": {
    "id": "ouIRpgL3VQ2G"
   },
   "outputs": [],
   "source": [
    "dataset = dataset.replace('?', None)\\\n",
    "        .dropna(how='any')"
   ]
  },
  {
   "cell_type": "markdown",
   "metadata": {
    "id": "u_ttgnU9VsTs"
   },
   "source": [
    "Define StringIndexers for categorical columns"
   ]
  },
  {
   "cell_type": "code",
   "execution_count": 43,
   "metadata": {
    "colab": {
     "base_uri": "https://localhost:8080/",
     "height": 206
    },
    "id": "vAJo4JfoV20M",
    "outputId": "35b5a0f4-217c-46ad-aa21-3d9da66a4f61"
   },
   "outputs": [
    {
     "data": {
      "text/html": [
       "<div>\n",
       "<style scoped>\n",
       "    .dataframe tbody tr th:only-of-type {\n",
       "        vertical-align: middle;\n",
       "    }\n",
       "\n",
       "    .dataframe tbody tr th {\n",
       "        vertical-align: top;\n",
       "    }\n",
       "\n",
       "    .dataframe thead th {\n",
       "        text-align: right;\n",
       "    }\n",
       "</style>\n",
       "<table border=\"1\" class=\"dataframe\">\n",
       "  <thead>\n",
       "    <tr style=\"text-align: right;\">\n",
       "      <th></th>\n",
       "      <th>Survived</th>\n",
       "      <th>Pclass</th>\n",
       "      <th>Sex</th>\n",
       "      <th>Age</th>\n",
       "      <th>Fare</th>\n",
       "      <th>Embarked</th>\n",
       "      <th>Gender</th>\n",
       "      <th>Boarded</th>\n",
       "    </tr>\n",
       "  </thead>\n",
       "  <tbody>\n",
       "    <tr>\n",
       "      <th>0</th>\n",
       "      <td>0.0</td>\n",
       "      <td>3.0</td>\n",
       "      <td>male</td>\n",
       "      <td>22.0</td>\n",
       "      <td>7.250000</td>\n",
       "      <td>S</td>\n",
       "      <td>0.0</td>\n",
       "      <td>0.0</td>\n",
       "    </tr>\n",
       "    <tr>\n",
       "      <th>1</th>\n",
       "      <td>1.0</td>\n",
       "      <td>1.0</td>\n",
       "      <td>female</td>\n",
       "      <td>38.0</td>\n",
       "      <td>71.283302</td>\n",
       "      <td>C</td>\n",
       "      <td>1.0</td>\n",
       "      <td>1.0</td>\n",
       "    </tr>\n",
       "    <tr>\n",
       "      <th>2</th>\n",
       "      <td>1.0</td>\n",
       "      <td>3.0</td>\n",
       "      <td>female</td>\n",
       "      <td>26.0</td>\n",
       "      <td>7.925000</td>\n",
       "      <td>S</td>\n",
       "      <td>1.0</td>\n",
       "      <td>0.0</td>\n",
       "    </tr>\n",
       "    <tr>\n",
       "      <th>3</th>\n",
       "      <td>1.0</td>\n",
       "      <td>1.0</td>\n",
       "      <td>female</td>\n",
       "      <td>35.0</td>\n",
       "      <td>53.099998</td>\n",
       "      <td>S</td>\n",
       "      <td>1.0</td>\n",
       "      <td>0.0</td>\n",
       "    </tr>\n",
       "    <tr>\n",
       "      <th>4</th>\n",
       "      <td>0.0</td>\n",
       "      <td>3.0</td>\n",
       "      <td>male</td>\n",
       "      <td>35.0</td>\n",
       "      <td>8.050000</td>\n",
       "      <td>S</td>\n",
       "      <td>0.0</td>\n",
       "      <td>0.0</td>\n",
       "    </tr>\n",
       "  </tbody>\n",
       "</table>\n",
       "</div>"
      ],
      "text/plain": [
       "   Survived  Pclass     Sex   Age       Fare Embarked  Gender  Boarded\n",
       "0       0.0     3.0    male  22.0   7.250000        S     0.0      0.0\n",
       "1       1.0     1.0  female  38.0  71.283302        C     1.0      1.0\n",
       "2       1.0     3.0  female  26.0   7.925000        S     1.0      0.0\n",
       "3       1.0     1.0  female  35.0  53.099998        S     1.0      0.0\n",
       "4       0.0     3.0    male  35.0   8.050000        S     0.0      0.0"
      ]
     },
     "execution_count": 43,
     "metadata": {},
     "output_type": "execute_result"
    }
   ],
   "source": [
    "from pyspark.ml.feature import StringIndexer\n",
    "\n",
    "dataset = StringIndexer(\n",
    "    inputCol='Sex',\n",
    "    outputCol='Gender',\n",
    "    handleInvalid='keep').fit(dataset).transform(dataset) #Keep in mind StringIndexer labels categories by frequency. In Titanic Dataset, this means 0 means male and 1 means female.\n",
    "\n",
    "dataset = StringIndexer(\n",
    "    inputCol='Embarked',\n",
    "    outputCol='Boarded',\n",
    "    handleInvalid='keep').fit(dataset).transform(dataset)\n",
    "\n",
    "dataset.toPandas().head()"
   ]
  },
  {
   "cell_type": "markdown",
   "metadata": {
    "id": "8baBTSHxfEu7"
   },
   "source": [
    "Drop the redundant columns"
   ]
  },
  {
   "cell_type": "code",
   "execution_count": 44,
   "metadata": {
    "colab": {
     "base_uri": "https://localhost:8080/",
     "height": 206
    },
    "id": "-PamNuMRl985",
    "outputId": "93aed42a-11a6-44c6-8fb9-255fff19e3af"
   },
   "outputs": [
    {
     "data": {
      "text/html": [
       "<div>\n",
       "<style scoped>\n",
       "    .dataframe tbody tr th:only-of-type {\n",
       "        vertical-align: middle;\n",
       "    }\n",
       "\n",
       "    .dataframe tbody tr th {\n",
       "        vertical-align: top;\n",
       "    }\n",
       "\n",
       "    .dataframe thead th {\n",
       "        text-align: right;\n",
       "    }\n",
       "</style>\n",
       "<table border=\"1\" class=\"dataframe\">\n",
       "  <thead>\n",
       "    <tr style=\"text-align: right;\">\n",
       "      <th></th>\n",
       "      <th>Survived</th>\n",
       "      <th>Pclass</th>\n",
       "      <th>Age</th>\n",
       "      <th>Fare</th>\n",
       "      <th>Gender</th>\n",
       "      <th>Boarded</th>\n",
       "    </tr>\n",
       "  </thead>\n",
       "  <tbody>\n",
       "    <tr>\n",
       "      <th>0</th>\n",
       "      <td>0.0</td>\n",
       "      <td>3.0</td>\n",
       "      <td>22.0</td>\n",
       "      <td>7.250000</td>\n",
       "      <td>0.0</td>\n",
       "      <td>0.0</td>\n",
       "    </tr>\n",
       "    <tr>\n",
       "      <th>1</th>\n",
       "      <td>1.0</td>\n",
       "      <td>1.0</td>\n",
       "      <td>38.0</td>\n",
       "      <td>71.283302</td>\n",
       "      <td>1.0</td>\n",
       "      <td>1.0</td>\n",
       "    </tr>\n",
       "    <tr>\n",
       "      <th>2</th>\n",
       "      <td>1.0</td>\n",
       "      <td>3.0</td>\n",
       "      <td>26.0</td>\n",
       "      <td>7.925000</td>\n",
       "      <td>1.0</td>\n",
       "      <td>0.0</td>\n",
       "    </tr>\n",
       "    <tr>\n",
       "      <th>3</th>\n",
       "      <td>1.0</td>\n",
       "      <td>1.0</td>\n",
       "      <td>35.0</td>\n",
       "      <td>53.099998</td>\n",
       "      <td>1.0</td>\n",
       "      <td>0.0</td>\n",
       "    </tr>\n",
       "    <tr>\n",
       "      <th>4</th>\n",
       "      <td>0.0</td>\n",
       "      <td>3.0</td>\n",
       "      <td>35.0</td>\n",
       "      <td>8.050000</td>\n",
       "      <td>0.0</td>\n",
       "      <td>0.0</td>\n",
       "    </tr>\n",
       "  </tbody>\n",
       "</table>\n",
       "</div>"
      ],
      "text/plain": [
       "   Survived  Pclass   Age       Fare  Gender  Boarded\n",
       "0       0.0     3.0  22.0   7.250000     0.0      0.0\n",
       "1       1.0     1.0  38.0  71.283302     1.0      1.0\n",
       "2       1.0     3.0  26.0   7.925000     1.0      0.0\n",
       "3       1.0     1.0  35.0  53.099998     1.0      0.0\n",
       "4       0.0     3.0  35.0   8.050000     0.0      0.0"
      ]
     },
     "execution_count": 44,
     "metadata": {},
     "output_type": "execute_result"
    }
   ],
   "source": [
    "dataset = dataset.drop('Sex')\n",
    "dataset = dataset.drop('Embarked')\n",
    "\n",
    "dataset.toPandas().head()"
   ]
  },
  {
   "cell_type": "markdown",
   "metadata": {
    "id": "VXpP6528mEqx"
   },
   "source": [
    "Define the required features to use in the VectorAssembler\n",
    "Since we are only examining data and not making predictions, we include all columns"
   ]
  },
  {
   "cell_type": "code",
   "execution_count": 45,
   "metadata": {
    "id": "5jJ5i7MomIrg"
   },
   "outputs": [],
   "source": [
    "requiredFeatures = ['Survived',\n",
    "                    'Pclass',\n",
    "                    'Age',\n",
    "                    'Fare',\n",
    "                    'Gender',\n",
    "                    'Boarded'\n",
    "                   ]"
   ]
  },
  {
   "cell_type": "markdown",
   "metadata": {
    "id": "rs3a8j9MmLMo"
   },
   "source": [
    "### The VectorAssembler vectorises all the features\n",
    "The transformed data will be used for clustering"
   ]
  },
  {
   "cell_type": "code",
   "execution_count": 46,
   "metadata": {
    "id": "2R8oHQmzmOOv"
   },
   "outputs": [],
   "source": [
    "from pyspark.ml.feature import VectorAssembler\n",
    "\n",
    "assembler = VectorAssembler(inputCols=requiredFeatures, outputCol='features')"
   ]
  },
  {
   "cell_type": "markdown",
   "metadata": {
    "id": "sERCC9YKmSKA"
   },
   "source": [
    "Transform our dataset for use in our clustering algorithm"
   ]
  },
  {
   "cell_type": "code",
   "execution_count": 47,
   "metadata": {
    "id": "V2y8-__CmWHw"
   },
   "outputs": [],
   "source": [
    "transformed_data = assembler.transform(dataset)"
   ]
  },
  {
   "cell_type": "code",
   "execution_count": 48,
   "metadata": {
    "colab": {
     "base_uri": "https://localhost:8080/",
     "height": 424
    },
    "id": "XeUsslthmZSI",
    "outputId": "11a574c9-c435-4304-8bc7-3d3c6bb5cce3"
   },
   "outputs": [
    {
     "data": {
      "text/html": [
       "<div>\n",
       "<style scoped>\n",
       "    .dataframe tbody tr th:only-of-type {\n",
       "        vertical-align: middle;\n",
       "    }\n",
       "\n",
       "    .dataframe tbody tr th {\n",
       "        vertical-align: top;\n",
       "    }\n",
       "\n",
       "    .dataframe thead th {\n",
       "        text-align: right;\n",
       "    }\n",
       "</style>\n",
       "<table border=\"1\" class=\"dataframe\">\n",
       "  <thead>\n",
       "    <tr style=\"text-align: right;\">\n",
       "      <th></th>\n",
       "      <th>Survived</th>\n",
       "      <th>Pclass</th>\n",
       "      <th>Age</th>\n",
       "      <th>Fare</th>\n",
       "      <th>Gender</th>\n",
       "      <th>Boarded</th>\n",
       "      <th>features</th>\n",
       "    </tr>\n",
       "  </thead>\n",
       "  <tbody>\n",
       "    <tr>\n",
       "      <th>0</th>\n",
       "      <td>0.0</td>\n",
       "      <td>3.0</td>\n",
       "      <td>22.0</td>\n",
       "      <td>7.250000</td>\n",
       "      <td>0.0</td>\n",
       "      <td>0.0</td>\n",
       "      <td>[0.0, 3.0, 22.0, 7.25, 0.0, 0.0]</td>\n",
       "    </tr>\n",
       "    <tr>\n",
       "      <th>1</th>\n",
       "      <td>1.0</td>\n",
       "      <td>1.0</td>\n",
       "      <td>38.0</td>\n",
       "      <td>71.283302</td>\n",
       "      <td>1.0</td>\n",
       "      <td>1.0</td>\n",
       "      <td>[1.0, 1.0, 38.0, 71.2833023071289, 1.0, 1.0]</td>\n",
       "    </tr>\n",
       "    <tr>\n",
       "      <th>2</th>\n",
       "      <td>1.0</td>\n",
       "      <td>3.0</td>\n",
       "      <td>26.0</td>\n",
       "      <td>7.925000</td>\n",
       "      <td>1.0</td>\n",
       "      <td>0.0</td>\n",
       "      <td>[1.0, 3.0, 26.0, 7.925000190734863, 1.0, 0.0]</td>\n",
       "    </tr>\n",
       "    <tr>\n",
       "      <th>3</th>\n",
       "      <td>1.0</td>\n",
       "      <td>1.0</td>\n",
       "      <td>35.0</td>\n",
       "      <td>53.099998</td>\n",
       "      <td>1.0</td>\n",
       "      <td>0.0</td>\n",
       "      <td>[1.0, 1.0, 35.0, 53.099998474121094, 1.0, 0.0]</td>\n",
       "    </tr>\n",
       "    <tr>\n",
       "      <th>4</th>\n",
       "      <td>0.0</td>\n",
       "      <td>3.0</td>\n",
       "      <td>35.0</td>\n",
       "      <td>8.050000</td>\n",
       "      <td>0.0</td>\n",
       "      <td>0.0</td>\n",
       "      <td>[0.0, 3.0, 35.0, 8.050000190734863, 0.0, 0.0]</td>\n",
       "    </tr>\n",
       "    <tr>\n",
       "      <th>...</th>\n",
       "      <td>...</td>\n",
       "      <td>...</td>\n",
       "      <td>...</td>\n",
       "      <td>...</td>\n",
       "      <td>...</td>\n",
       "      <td>...</td>\n",
       "      <td>...</td>\n",
       "    </tr>\n",
       "    <tr>\n",
       "      <th>707</th>\n",
       "      <td>0.0</td>\n",
       "      <td>3.0</td>\n",
       "      <td>39.0</td>\n",
       "      <td>29.125000</td>\n",
       "      <td>1.0</td>\n",
       "      <td>2.0</td>\n",
       "      <td>[0.0, 3.0, 39.0, 29.125, 1.0, 2.0]</td>\n",
       "    </tr>\n",
       "    <tr>\n",
       "      <th>708</th>\n",
       "      <td>0.0</td>\n",
       "      <td>2.0</td>\n",
       "      <td>27.0</td>\n",
       "      <td>13.000000</td>\n",
       "      <td>0.0</td>\n",
       "      <td>0.0</td>\n",
       "      <td>[0.0, 2.0, 27.0, 13.0, 0.0, 0.0]</td>\n",
       "    </tr>\n",
       "    <tr>\n",
       "      <th>709</th>\n",
       "      <td>1.0</td>\n",
       "      <td>1.0</td>\n",
       "      <td>19.0</td>\n",
       "      <td>30.000000</td>\n",
       "      <td>1.0</td>\n",
       "      <td>0.0</td>\n",
       "      <td>[1.0, 1.0, 19.0, 30.0, 1.0, 0.0]</td>\n",
       "    </tr>\n",
       "    <tr>\n",
       "      <th>710</th>\n",
       "      <td>1.0</td>\n",
       "      <td>1.0</td>\n",
       "      <td>26.0</td>\n",
       "      <td>30.000000</td>\n",
       "      <td>0.0</td>\n",
       "      <td>1.0</td>\n",
       "      <td>[1.0, 1.0, 26.0, 30.0, 0.0, 1.0]</td>\n",
       "    </tr>\n",
       "    <tr>\n",
       "      <th>711</th>\n",
       "      <td>0.0</td>\n",
       "      <td>3.0</td>\n",
       "      <td>32.0</td>\n",
       "      <td>7.750000</td>\n",
       "      <td>0.0</td>\n",
       "      <td>2.0</td>\n",
       "      <td>[0.0, 3.0, 32.0, 7.75, 0.0, 2.0]</td>\n",
       "    </tr>\n",
       "  </tbody>\n",
       "</table>\n",
       "<p>712 rows × 7 columns</p>\n",
       "</div>"
      ],
      "text/plain": [
       "     Survived  Pclass   Age       Fare  Gender  Boarded  \\\n",
       "0         0.0     3.0  22.0   7.250000     0.0      0.0   \n",
       "1         1.0     1.0  38.0  71.283302     1.0      1.0   \n",
       "2         1.0     3.0  26.0   7.925000     1.0      0.0   \n",
       "3         1.0     1.0  35.0  53.099998     1.0      0.0   \n",
       "4         0.0     3.0  35.0   8.050000     0.0      0.0   \n",
       "..        ...     ...   ...        ...     ...      ...   \n",
       "707       0.0     3.0  39.0  29.125000     1.0      2.0   \n",
       "708       0.0     2.0  27.0  13.000000     0.0      0.0   \n",
       "709       1.0     1.0  19.0  30.000000     1.0      0.0   \n",
       "710       1.0     1.0  26.0  30.000000     0.0      1.0   \n",
       "711       0.0     3.0  32.0   7.750000     0.0      2.0   \n",
       "\n",
       "                                           features  \n",
       "0                  [0.0, 3.0, 22.0, 7.25, 0.0, 0.0]  \n",
       "1      [1.0, 1.0, 38.0, 71.2833023071289, 1.0, 1.0]  \n",
       "2     [1.0, 3.0, 26.0, 7.925000190734863, 1.0, 0.0]  \n",
       "3    [1.0, 1.0, 35.0, 53.099998474121094, 1.0, 0.0]  \n",
       "4     [0.0, 3.0, 35.0, 8.050000190734863, 0.0, 0.0]  \n",
       "..                                              ...  \n",
       "707              [0.0, 3.0, 39.0, 29.125, 1.0, 2.0]  \n",
       "708                [0.0, 2.0, 27.0, 13.0, 0.0, 0.0]  \n",
       "709                [1.0, 1.0, 19.0, 30.0, 1.0, 0.0]  \n",
       "710                [1.0, 1.0, 26.0, 30.0, 0.0, 1.0]  \n",
       "711                [0.0, 3.0, 32.0, 7.75, 0.0, 2.0]  \n",
       "\n",
       "[712 rows x 7 columns]"
      ]
     },
     "execution_count": 48,
     "metadata": {},
     "output_type": "execute_result"
    }
   ],
   "source": [
    "transformed_data.toPandas()"
   ]
  },
  {
   "cell_type": "markdown",
   "metadata": {
    "id": "FqZTzYbYw_FV"
   },
   "source": [
    "### Define the clustering model\n",
    "Use K-means clustering\n",
    "* <b>k: </b>Defines the number of clusters\n",
    "* <b>seed: </b>This value is used to set the cluster centers. A different value of seed for the same k will result in clusters being defined differently. In order to reproduce similar clusters when re-running the clustering algorithm use the same values of k and seed"
   ]
  },
  {
   "cell_type": "code",
   "execution_count": 66,
   "metadata": {
    "id": "fWo2o1FdnfFY"
   },
   "outputs": [],
   "source": [
    "from pyspark.ml.clustering import KMeans\n",
    "\n",
    "kmeans = KMeans(k=4, seed=3)\n",
    "model = kmeans.fit(transformed_data)"
   ]
  },
  {
   "cell_type": "markdown",
   "metadata": {
    "id": "BF_dSeuHw6dk"
   },
   "source": [
    "#### Create the clusters using the model"
   ]
  },
  {
   "cell_type": "code",
   "execution_count": 63,
   "metadata": {
    "id": "eV5P79vKxK4c"
   },
   "outputs": [],
   "source": [
    "clusterdData = model.transform(transformed_data)"
   ]
  },
  {
   "cell_type": "markdown",
   "metadata": {
    "id": "7i7Re0NVxNHU"
   },
   "source": [
    "#### Use ClusteringEvaluator to evaluate the clusters\n",
    "<b>From Wikipedia: </b>The silhouette value is a measure of how similar an object is to its own cluster (cohesion) compared to other clusters (separation). The silhouette ranges from −1 to +1, where a high value indicates that the object is well matched to its own cluster and poorly matched to neighboring clusters. If most objects have a high value, then the clustering configuration is appropriate. If many points have a low or negative value, then the clustering configuration may have too many or too few clusters."
   ]
  },
  {
   "cell_type": "code",
   "execution_count": 64,
   "metadata": {
    "colab": {
     "base_uri": "https://localhost:8080/"
    },
    "id": "ACdMjtejxRx-",
    "outputId": "21d96071-9be9-4368-fc47-5c93f9b804db"
   },
   "outputs": [
    {
     "name": "stdout",
     "output_type": "stream",
     "text": [
      "Silhouette with squared euclidean distance =  0.9077791310613383\n"
     ]
    }
   ],
   "source": [
    "from pyspark.ml.evaluation import ClusteringEvaluator\n",
    "\n",
    "evaluator = ClusteringEvaluator()\n",
    "silhouette = evaluator.evaluate(clusterdData)\n",
    "print('Silhouette with squared euclidean distance = ', silhouette)"
   ]
  },
  {
   "cell_type": "markdown",
   "metadata": {},
   "source": [
    "## Tasks\n",
    "\n",
    "**Task 1: Evaluating how cluster fit is affected by the number of evaluated clusters?**\n",
    "\n",
    "Using the data available in the Titanic Dataset, experiment with 5 different cluster numbers (K) and repeat the clustering step 3 times using different seeds.\n",
    "Using the function `model.clusterCenters()` and the function `evaluator.evaluate()`, you can get the cluster center points and the silhouette measure of the clusters you've trained. Store them on a list so we can look at them after you've done to discuss the following topics:\n",
    "\n",
    "*Assignment: Discuss how the Silhoute measure of the clusters changed according to the selected values of K.*\n",
    " \n",
    "**Task 2: How can clustered data be used for extracting knowledge from datasets**\n",
    "\n",
    "Remember how the features are ordered: `[Survived, Pclass, Age, Fare, Gender, Boarded]`.  Sometimes, categorical features can provide some info even if seen as numbers.\n",
    "\n",
    "For example, a survivor is assigned the value `1`, but a death is defined as `0`. If we have 10 survivors and 10 deaths, the average label value would become $(10+0)/20$, which is 0.5. Coincidentally, this also means the rate of survival of this group. Similar inferences can be made for the others categorical values of this dataset (NB! This isn't true for all datasets, though. Remember in the first part of the session, where we had values like \"Native Country\" or \"Occupation\".)\n",
    "\n",
    "For example, suppose a cluster center is `[0.55208333,2.51041667,9.87760417,27.59748246,0.48958333,0.22916667]`\n",
    "\n",
    "I can make some educated guesses about this group by saying:\n",
    "\n",
    "    * Around 55% of these passengers have survided (Survived ranges from 0 (died) to 1 (lived))\n",
    "    * They were in lower end cabins (PClass ranges from 0 to 3, meaning top deck, middle deck and bottom deck)\n",
    "    * Their age was around 10 years old (Age is continuous)\n",
    "    * They paid a fare of around 30 dollars (Fare is continuous)\n",
    "    * They Were almost evenly split between boys and girls. (Gender ranges from 0 (male) to 1 (female))\n",
    "\n",
    "Now, take this other cluster `[0.8,1.0,32.046,141.61957932,0.7, 0.255]`\n",
    "\n",
    "Let's do this again for the second cluster.\n",
    "\n",
    "    * Around 80% of these passengers survived\n",
    "    * They were in the upper cabins\n",
    "    * Their age was around 32 years old\n",
    "    * They paid a fare of around 141 dollars\n",
    "    * They were mostly women (70:30 split of women to men)\n",
    "*Assignment: Repeat this exercise for the cluster with the best silhoutte you've find in the earlier experiment. What can you say about the cluster with the lowest rate of survival?*\n",
    "\n"
   ]
  },
  {
   "cell_type": "markdown",
   "metadata": {
    "id": "47ZjDUruxaHD"
   },
   "source": [
    "### Choose number of clusters k\n",
    "##### Elbow method"
   ]
  },
  {
   "cell_type": "code",
   "execution_count": 68,
   "metadata": {
    "colab": {
     "base_uri": "https://localhost:8080/",
     "height": 295
    },
    "id": "FxBXmiXBxcvt",
    "outputId": "c50f7831-4daa-43fa-bef5-c46d37a438d0"
   },
   "outputs": [
    {
     "data": {
      "image/png": "[encoded data removed]",
      "text/plain": [
       "<Figure size 640x480 with 1 Axes>"
      ]
     },
     "metadata": {},
     "output_type": "display_data"
    }
   ],
   "source": [
    "# Calculate cost and plot\n",
    "import numpy as np\n",
    "import pandas as pd\n",
    "\n",
    "n=15\n",
    "cost = np.zeros(n)\n",
    "\n",
    "for k in range(2,n):\n",
    "    kmeans = KMeans(k=k, seed=3)\n",
    "    model = kmeans.fit(transformed_data)\n",
    "    #cost[k] = model.computeCost(transformed_data)\n",
    "    clusterdData = model.transform(transformed_data)\n",
    "    evaluator = ClusteringEvaluator()\n",
    "    cost[k] = evaluator.evaluate(clusterdData)\n",
    "\n",
    "# Plot the cost\n",
    "df_cost = pd.DataFrame(cost[2:])\n",
    "df_cost.columns = [\"cost\"]\n",
    "new_col = range(2,n)\n",
    "df_cost.insert(0, 'cluster', new_col)\n",
    "\n",
    "import pylab as pl\n",
    "pl.plot(df_cost.cluster, df_cost.cost)\n",
    "pl.xlabel('Number of Clusters')\n",
    "pl.ylabel('Score')\n",
    "pl.title('Elbow Curve')\n",
    "pl.show()"
   ]
  },
  {
   "cell_type": "code",
   "execution_count": 69,
   "metadata": {
    "colab": {
     "base_uri": "https://localhost:8080/"
    },
    "id": "vEZu-3FZzLo8",
    "outputId": "aabe0707-78f2-4cd9-8558-053c146da52f"
   },
   "outputs": [
    {
     "name": "stdout",
     "output_type": "stream",
     "text": [
      "Cluster Centers: \n",
      "[ 0.325      1.625     59.1875    22.2635424  0.225      0.275    ]\n",
      "[  0.9          1.          44.1        144.56915741   0.8\n",
      "   0.4       ]\n",
      "[1.00000000e+00 1.00000000e+00 3.53333333e+01 5.12329224e+02\n",
      " 3.33333333e-01 1.00000000e+00]\n",
      "[ 0.26380368  2.84662577 20.36196319  9.35651909  0.3006135   0.25153374]\n",
      "[  0.71428571   1.          30.64285714 113.08035115   0.5\n",
      "   0.71428571]\n",
      "[ 0.5890411   2.63013699  6.33219178 25.57773846  0.52054795  0.26027397]\n",
      "[  0.73333333   1.          30.33333333 239.99193726   0.73333333\n",
      "   0.53333333]\n",
      "[ 0.16666667  2.61666667 43.75        9.51215338  0.2         0.11666667]\n",
      "[ 0.59459459  1.64864865 26.45945946 51.52151077  0.40540541  0.21621622]\n",
      "[ 0.59259259  1.03703704 53.40740741 66.65911456  0.44444444  0.51851852]\n",
      "[  0.5          1.          17.15333334 151.1166687    0.66666667\n",
      "   0.16666667]\n",
      "[ 0.28358209  2.69402985 30.25373134 10.36722319  0.24626866  0.19402985]\n",
      "[ 0.44565217  1.91304348 34.89673913 27.49492606  0.42391304  0.19565217]\n",
      "[ 0.68421053  1.13157895 29.26315789 80.55548176  0.55263158  0.42105263]\n"
     ]
    }
   ],
   "source": [
    "centers = model.clusterCenters()\n",
    "print('Cluster Centers: ')\n",
    "for center in centers:\n",
    "    print(center)"
   ]
  },
  {
   "cell_type": "markdown",
   "metadata": {
    "id": "rVVI2dITxZYU"
   },
   "source": [
    "**This is our notebook's final cell!**"
   ]
  }
 ],
 "metadata": {
  "colab": {
   "collapsed_sections": [
    "GZjYwD4szE2r",
    "c6neT5aCN8I2",
    "0XMDyBxPN8I3",
    "oJmPe-psRF35",
    "UAzRF0TYN8I4",
    "mTEIwjeSN8I-",
    "qj_J-GbRRivQ"
   ],
   "provenance": []
  },
  "interpreter": {
   "hash": "1d3fcd8a7c24921420a7eaf34a4ace1d9e912bef3e5d7eb8e9b542ecaa5592d4"
  },
  "kernelspec": {
   "display_name": "Python 3 (ipykernel)",
   "language": "python",
   "name": "python3"
  },
  "language_info": {
   "codemirror_mode": {
    "name": "ipython",
    "version": 3
   },
   "file_extension": ".py",
   "mimetype": "text/x-python",
   "name": "python",
   "nbconvert_exporter": "python",
   "pygments_lexer": "ipython3",
   "version": "3.11.7"
  }
 },
 "nbformat": 4,
 "nbformat_minor": 4
}
